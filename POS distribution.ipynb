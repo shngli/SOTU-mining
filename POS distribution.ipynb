{
 "cells": [
  {
   "cell_type": "markdown",
   "metadata": {},
   "source": [
    "# POS Distribution\n",
    "## Chisheng Li\n",
    "Tokenize the SOTU speech collections using the NLTK package and then write a program that compute the frequency of words and POS. Compare the speeches based on the following properties:\n",
    "\n",
    "- vocabulary size (number of unique words);\n",
    "- frequency of stopwords;\n",
    "- number of capital letters;\n",
    "- average number of characters per word;\n",
    "- number of nouns, adjectives, verbs, adverbs, and pronouns;\n",
    "- the top 10 nouns, top 10 verbs, and top 10 adjectives."
   ]
  },
  {
   "cell_type": "code",
   "execution_count": 1,
   "metadata": {
    "collapsed": true
   },
   "outputs": [],
   "source": [
    "import csv, re\n",
    "from nltk.tokenize import word_tokenize\n",
    "from nltk.tag import pos_tag\n",
    "from itertools import groupby\n",
    "from math import log"
   ]
  },
  {
   "cell_type": "markdown",
   "metadata": {},
   "source": [
    "### POS Distribution for the entire SOTU speech"
   ]
  },
  {
   "cell_type": "code",
   "execution_count": 2,
   "metadata": {
    "collapsed": true
   },
   "outputs": [],
   "source": [
    "def pos_stats(filename):\n",
    "    pattern = re.compile(\"[A-Z]{1}\")\n",
    "    sum_stats= dict();\n",
    "    \n",
    "    with open ('stopwords.txt') as stop:\n",
    "        stop_words = [w.strip().lower() for w in stop]\n",
    "        \n",
    "        with open(filename) as text:            \n",
    "            text_string = text.read()\n",
    "            text_words = word_tokenize(text_string)\n",
    "            text_words.sort()\n",
    "            \n",
    "            # output: (word, frequency)\n",
    "            # Word frequency count with upper case words\n",
    "            word_freq_cap = [(key, len(list(group))) for key, group in groupby(text_words, lambda x: x)]\n",
    "            \n",
    "            target = open('POS output/' + filename + '_withCap.txt', 'w')\n",
    "            target.write(str(word_freq_cap))\n",
    "            \n",
    "            # Word frequency count without upper case words\n",
    "            word_freq = [(key, len(list(group))) for key, group in groupby(text_words, lambda x: x.lower())]\n",
    "            \n",
    "            target = open('POS output/' + filename + '_noCap.txt', 'w')\n",
    "            target.write(str(word_freq))\n",
    "            \n",
    "            # filter out stop words\n",
    "            word_filtered = [f for f in word_freq if f[0] not in stop_words]\n",
    "            \n",
    "            # vocabulary size with and without stop words\n",
    "            sum_stats[\"vocabulary size\"] = [len(word_freq), len(word_filtered)]\n",
    "            \n",
    "            # stopword frequency\n",
    "            stop_freq = 0;\n",
    "            # total word frequency\n",
    "            total_freq = 0;\n",
    "            \n",
    "            for w, frq in word_freq:\n",
    "                if w in stop_words:\n",
    "                    stop_freq += frq\n",
    "                total_freq += frq\n",
    "            \n",
    "            sum_stats[\"stop word frequency\"] = stop_freq/float(total_freq)\n",
    "            \n",
    "            # number of capital letters            \n",
    "            # average number of character per word\n",
    "            total_chars = 0;\n",
    "            total_words = 0;\n",
    "            total_capital = 0;\n",
    "            \n",
    "            for word, freq in word_freq_cap:\n",
    "                total_chars += len(word)*freq\n",
    "                total_words += freq\n",
    "                total_capital += freq * len(pattern.findall(word))\n",
    "            \n",
    "            if total_chars != 0 and total_words != 0:\n",
    "                sum_stats[\"avg chars per word\"] = total_chars/float(total_words)\n",
    "                sum_stats[\"number of capital letters\"] = total_capital\n",
    "                \n",
    "            # POS tagging, without filtering stop words \n",
    "            pos_info = None\n",
    "            pos_info = pos_tag(word_tokenize(text_string.lower()))\n",
    "            \n",
    "            target = open('POS output/' + filename + 'pos_noCap.txt', 'w')\n",
    "            target.write(str(pos_info))\n",
    "                \n",
    "            pos_counts = dict();\n",
    "            cross_walk = {'NN':'noun', 'JJ':'adjectives', \n",
    "                          'VB':'verbs', 'RB':'adverbs', 'PRP':'pronouns'}\n",
    "            \n",
    "            for word, pos in pos_info:\n",
    "                pos_type = cross_walk.get(pos);\n",
    "                if pos:\n",
    "                    pos_counts[pos_type] = pos_counts.get(pos_type, 0) + 1\n",
    "                else:\n",
    "                    None\n",
    "                    \n",
    "            sum_stats[\"POS counts\"] = pos_counts\n",
    "            \n",
    "            pos_info_sort = sorted (pos_info, key= lambda x: (x[1], x[0]))\n",
    "            pos_word_counts = [(k, len(list(group))) for k, group in groupby(pos_info_sort, lambda x: x )]\n",
    "\n",
    "            # desired output: ((word, pos) counts)  \n",
    "            # but the problem is that pos does not combine        \n",
    "            tmp1 = sorted(pos_word_counts, key = lambda x: x[0][1])\n",
    "            tmp2 = [(k, sorted(group, key = lambda x: x[1], reverse=True)) for k, group in groupby(tmp1, lambda x: x[0][1])]\n",
    "            \n",
    "            pos_list , word_count = zip(*tmp2)\n",
    "            \n",
    "            topwords_by_pos = dict()\n",
    "            \n",
    "            for pos_type in pos_list:\n",
    "                ts1 = word_count[pos_list.index(pos_type)]\n",
    "                cnt = 0\n",
    "                ts2 = list();\n",
    "                for word_tup in ts1:\n",
    "                    if not (cnt < 10):\n",
    "                        break\n",
    "                    ts2.append((word_tup[0][0], word_tup[1]))\n",
    "                    cnt += 1\n",
    "                topwords_by_pos[cross_walk.get(pos_type)] = ts2\n",
    "            \n",
    "            sum_stats[\"top words by pos\"] = topwords_by_pos\n",
    "            \n",
    "            # output: (frequency, # of unique word)\n",
    "            word_sorted = sorted(word_filtered, key = lambda x: x[1])\n",
    "            cnt_word = [(key, len(list(group))) for key, group in groupby(word_sorted, lambda x: x[1])]\n",
    "            \n",
    "            log_word = [(log(x), log(y)) for x, y in cnt_word]\n",
    "\n",
    "            target = open('POS output/' + filename + 'summary.txt', 'w')\n",
    "            target.write(str(sum_stats))\n",
    "\n",
    "        return sum_stats"
   ]
  },
  {
   "cell_type": "code",
   "execution_count": 3,
   "metadata": {
    "collapsed": false
   },
   "outputs": [
    {
     "data": {
      "text/plain": [
       "{'POS counts': {None: 1265036,\n",
       "  'adjectives': 139661,\n",
       "  'adverbs': 66323,\n",
       "  'noun': 337705,\n",
       "  'pronouns': 55203,\n",
       "  'verbs': 73184},\n",
       " 'avg chars per word': 4.564443726671668,\n",
       " 'number of capital letters': 176503,\n",
       " 'stop word frequency': 0.5033321397207772,\n",
       " 'top words by pos': {None: [('``', 1028)],\n",
       "  'adjectives': [('such', 4032),\n",
       "   ('other', 3664),\n",
       "   ('great', 3178),\n",
       "   ('new', 2939),\n",
       "   ('last', 2592),\n",
       "   ('national', 2135),\n",
       "   ('american', 1878),\n",
       "   ('own', 1824),\n",
       "   ('many', 1715),\n",
       "   ('foreign', 1577)],\n",
       "  'adverbs': [('not', 9381),\n",
       "   ('so', 3283),\n",
       "   ('now', 3049),\n",
       "   ('only', 2043),\n",
       "   ('also', 1750),\n",
       "   ('well', 1371),\n",
       "   ('just', 1160),\n",
       "   ('still', 1036),\n",
       "   ('already', 927),\n",
       "   ('far', 905)],\n",
       "  'noun': [('government', 6930),\n",
       "   ('congress', 4840),\n",
       "   ('year', 3866),\n",
       "   ('country', 3381),\n",
       "   ('war', 2736),\n",
       "   ('time', 2689),\n",
       "   ('world', 2425),\n",
       "   ('state', 2316),\n",
       "   ('law', 2047),\n",
       "   ('nation', 2033)],\n",
       "  'pronouns': [('it', 15481),\n",
       "   ('we', 12340),\n",
       "   ('i', 9379),\n",
       "   ('they', 5010),\n",
       "   ('them', 3654),\n",
       "   ('us', 2430),\n",
       "   ('you', 2203),\n",
       "   ('he', 1335),\n",
       "   ('me', 896),\n",
       "   ('themselves', 670)],\n",
       "  'verbs': [('be', 18617),\n",
       "   ('have', 2248),\n",
       "   ('make', 1582),\n",
       "   ('do', 1078),\n",
       "   ('give', 797),\n",
       "   ('take', 741),\n",
       "   ('meet', 670),\n",
       "   ('provide', 667),\n",
       "   ('continue', 661),\n",
       "   ('help', 634)]},\n",
       " 'vocabulary size': [34148, 33493]}"
      ]
     },
     "execution_count": 3,
     "metadata": {},
     "output_type": "execute_result"
    }
   ],
   "source": [
    "pos_stats('sotu1790-2015.txt')"
   ]
  },
  {
   "cell_type": "markdown",
   "metadata": {
    "collapsed": true
   },
   "source": [
    "## By Presidents"
   ]
  },
  {
   "cell_type": "markdown",
   "metadata": {},
   "source": [
    "### George Washington (1790-1796)"
   ]
  },
  {
   "cell_type": "code",
   "execution_count": 4,
   "metadata": {
    "collapsed": false
   },
   "outputs": [
    {
     "data": {
      "text/plain": [
       "{'POS counts': {None: 12082,\n",
       "  'adjectives': 1158,\n",
       "  'adverbs': 567,\n",
       "  'noun': 3000,\n",
       "  'pronouns': 518,\n",
       "  'verbs': 762},\n",
       " 'avg chars per word': 4.658926300657931,\n",
       " 'number of capital letters': 1312,\n",
       " 'stop word frequency': 0.5343064079172887,\n",
       " 'top words by pos': {None: [('``', 4)],\n",
       "  'adjectives': [('such', 39),\n",
       "   ('other', 37),\n",
       "   ('general', 25),\n",
       "   ('national', 24),\n",
       "   ('last', 21),\n",
       "   ('public', 21),\n",
       "   ('further', 19),\n",
       "   ('necessary', 19),\n",
       "   ('great', 18),\n",
       "   ('military', 17)],\n",
       "  'adverbs': [('not', 110),\n",
       "   ('so', 22),\n",
       "   ('too', 20),\n",
       "   ('however', 16),\n",
       "   ('well', 16),\n",
       "   ('yet', 15),\n",
       "   ('also', 14),\n",
       "   ('now', 13),\n",
       "   ('far', 12),\n",
       "   ('even', 11)],\n",
       "  'noun': [('government', 47),\n",
       "   ('country', 33),\n",
       "   ('public', 33),\n",
       "   ('state', 32),\n",
       "   ('peace', 29),\n",
       "   ('present', 28),\n",
       "   ('congress', 27),\n",
       "   ('house', 26),\n",
       "   ('war', 26),\n",
       "   ('part', 24)],\n",
       "  'pronouns': [('it', 157),\n",
       "   ('i', 104),\n",
       "   ('you', 69),\n",
       "   ('them', 58),\n",
       "   ('they', 39),\n",
       "   ('we', 28),\n",
       "   ('me', 21),\n",
       "   ('us', 14),\n",
       "   ('he', 8),\n",
       "   ('itself', 6)],\n",
       "  'verbs': [('be', 243),\n",
       "   ('have', 40),\n",
       "   ('afford', 8),\n",
       "   ('add', 6),\n",
       "   ('prevent', 6),\n",
       "   ('lay', 5),\n",
       "   ('merit', 5),\n",
       "   ('render', 5),\n",
       "   ('secure', 5),\n",
       "   ('engage', 4)]},\n",
       " 'vocabulary size': [3016, 2736]}"
      ]
     },
     "execution_count": 4,
     "metadata": {},
     "output_type": "execute_result"
    }
   ],
   "source": [
    "pos_stats('1GW.txt')"
   ]
  },
  {
   "cell_type": "markdown",
   "metadata": {},
   "source": [
    "### John Adams (1797-1800)"
   ]
  },
  {
   "cell_type": "code",
   "execution_count": 5,
   "metadata": {
    "collapsed": false
   },
   "outputs": [
    {
     "data": {
      "text/plain": [
       "{'POS counts': {None: 5198,\n",
       "  'adjectives': 507,\n",
       "  'adverbs': 216,\n",
       "  'noun': 1288,\n",
       "  'pronouns': 238,\n",
       "  'verbs': 307},\n",
       " 'avg chars per word': 4.681882656350742,\n",
       " 'number of capital letters': 616,\n",
       " 'stop word frequency': 0.5245647969052224,\n",
       " 'top words by pos': {None: [('when', 9), ('where', 4), ('how', 1)],\n",
       "  'adjectives': [('great', 22),\n",
       "   ('such', 16),\n",
       "   ('necessary', 15),\n",
       "   ('national', 13),\n",
       "   ('other', 13),\n",
       "   ('foreign', 11),\n",
       "   ('british', 7),\n",
       "   ('last', 7),\n",
       "   ('public', 7),\n",
       "   ('considerable', 6)],\n",
       "  'adverbs': [('not', 36),\n",
       "   ('so', 16),\n",
       "   ('now', 9),\n",
       "   ('still', 7),\n",
       "   ('far', 5),\n",
       "   ('however', 5),\n",
       "   ('also', 4),\n",
       "   ('confidently', 4),\n",
       "   ('just', 4),\n",
       "   ('then', 4)],\n",
       "  'noun': [('commerce', 22),\n",
       "   ('treaty', 22),\n",
       "   ('country', 21),\n",
       "   ('government', 19),\n",
       "   ('article', 14),\n",
       "   ('congress', 14),\n",
       "   ('france', 13),\n",
       "   ('war', 13),\n",
       "   ('house', 12),\n",
       "   ('part', 12)],\n",
       "  'pronouns': [('it', 75),\n",
       "   ('i', 42),\n",
       "   ('we', 30),\n",
       "   ('they', 23),\n",
       "   ('you', 21),\n",
       "   ('them', 14),\n",
       "   ('us', 11),\n",
       "   ('me', 8),\n",
       "   ('he', 3),\n",
       "   ('itself', 3)],\n",
       "  'verbs': [('be', 89),\n",
       "   ('have', 7),\n",
       "   ('give', 6),\n",
       "   ('ascertain', 4),\n",
       "   ('continue', 4),\n",
       "   ('secure', 4),\n",
       "   ('assemble', 3),\n",
       "   ('avoid', 3),\n",
       "   ('bring', 3),\n",
       "   ('consider', 3)]},\n",
       " 'vocabulary size': [1700, 1470]}"
      ]
     },
     "execution_count": 5,
     "metadata": {},
     "output_type": "execute_result"
    }
   ],
   "source": [
    "pos_stats('2JA.txt')"
   ]
  },
  {
   "cell_type": "markdown",
   "metadata": {},
   "source": [
    "### Thomas Jefferson (1801-1808)"
   ]
  },
  {
   "cell_type": "code",
   "execution_count": 6,
   "metadata": {
    "collapsed": false
   },
   "outputs": [
    {
     "data": {
      "text/plain": [
       "{'POS counts': {None: 15169,\n",
       "  'adjectives': 1406,\n",
       "  'adverbs': 805,\n",
       "  'noun': 3533,\n",
       "  'pronouns': 710,\n",
       "  'verbs': 913},\n",
       " 'avg chars per word': 4.5762967564449575,\n",
       " 'number of capital letters': 1298,\n",
       " 'stop word frequency': 0.5383591427430447,\n",
       " 'top words by pos': {None: [('when', 25), ('where', 21), ('how', 9)],\n",
       "  'adjectives': [('other', 58),\n",
       "   ('necessary', 50),\n",
       "   ('last', 44),\n",
       "   ('such', 37),\n",
       "   ('great', 33),\n",
       "   ('new', 28),\n",
       "   ('own', 23),\n",
       "   ('same', 23),\n",
       "   ('foreign', 21),\n",
       "   ('general', 20)],\n",
       "  'adverbs': [('not', 106),\n",
       "   ('so', 47),\n",
       "   ('now', 35),\n",
       "   ('also', 31),\n",
       "   ('well', 22),\n",
       "   ('still', 21),\n",
       "   ('however', 20),\n",
       "   ('already', 19),\n",
       "   ('only', 18),\n",
       "   ('soon', 18)],\n",
       "  'noun': [('country', 56),\n",
       "   ('peace', 55),\n",
       "   ('time', 47),\n",
       "   ('congress', 44),\n",
       "   ('year', 39),\n",
       "   ('state', 38),\n",
       "   ('part', 34),\n",
       "   ('public', 34),\n",
       "   ('war', 34),\n",
       "   ('debt', 32)],\n",
       "  'pronouns': [('it', 165),\n",
       "   ('them', 101),\n",
       "   ('we', 101),\n",
       "   ('they', 81),\n",
       "   ('i', 74),\n",
       "   ('us', 71),\n",
       "   ('you', 70),\n",
       "   ('themselves', 12),\n",
       "   ('itself', 10),\n",
       "   ('me', 7)],\n",
       "  'verbs': [('be', 305),\n",
       "   ('have', 34),\n",
       "   ('give', 14),\n",
       "   ('pay', 11),\n",
       "   ('maintain', 10),\n",
       "   ('meet', 10),\n",
       "   ('call', 9),\n",
       "   ('receive', 9),\n",
       "   ('make', 8),\n",
       "   ('require', 8)]},\n",
       " 'vocabulary size': [3155, 2864]}"
      ]
     },
     "execution_count": 6,
     "metadata": {},
     "output_type": "execute_result"
    }
   ],
   "source": [
    "pos_stats('3TJ.txt')"
   ]
  },
  {
   "cell_type": "markdown",
   "metadata": {},
   "source": [
    "### James Madison (1809-1816)"
   ]
  },
  {
   "cell_type": "code",
   "execution_count": 7,
   "metadata": {
    "collapsed": false
   },
   "outputs": [
    {
     "data": {
      "text/plain": [
       "{'POS counts': {None: 15814,\n",
       "  'adjectives': 1673,\n",
       "  'adverbs': 736,\n",
       "  'noun': 3983,\n",
       "  'pronouns': 506,\n",
       "  'verbs': 680},\n",
       " 'avg chars per word': 4.690975932971401,\n",
       " 'number of capital letters': 1461,\n",
       " 'stop word frequency': 0.5304150814346172,\n",
       " 'top words by pos': {None: [('where', 18), ('when', 9), ('how', 4)],\n",
       "  'adjectives': [('other', 71),\n",
       "   ('british', 61),\n",
       "   ('such', 51),\n",
       "   ('great', 50),\n",
       "   ('national', 42),\n",
       "   ('american', 41),\n",
       "   ('foreign', 25),\n",
       "   ('last', 24),\n",
       "   ('military', 24),\n",
       "   ('general', 23)],\n",
       "  'adverbs': [('not', 137),\n",
       "   ('also', 37),\n",
       "   ('so', 36),\n",
       "   ('well', 33),\n",
       "   ('now', 21),\n",
       "   ('just', 19),\n",
       "   ('however', 16),\n",
       "   ('particularly', 15),\n",
       "   ('only', 14),\n",
       "   ('far', 13)],\n",
       "  'noun': [('war', 85),\n",
       "   ('government', 62),\n",
       "   ('public', 53),\n",
       "   ('congress', 49),\n",
       "   ('country', 45),\n",
       "   ('enemy', 43),\n",
       "   ('peace', 36),\n",
       "   ('treasury', 33),\n",
       "   ('force', 32),\n",
       "   ('nation', 32)],\n",
       "  'pronouns': [('it', 224),\n",
       "   ('them', 73),\n",
       "   ('i', 49),\n",
       "   ('they', 45),\n",
       "   ('we', 24),\n",
       "   ('us', 23),\n",
       "   ('itself', 17),\n",
       "   ('you', 17),\n",
       "   ('he', 13),\n",
       "   ('themselves', 6)],\n",
       "  'verbs': [('be', 239),\n",
       "   ('have', 46),\n",
       "   ('give', 8),\n",
       "   ('require', 7),\n",
       "   ('afford', 6),\n",
       "   ('fail', 6),\n",
       "   ('meet', 6),\n",
       "   ('defray', 5),\n",
       "   ('find', 5),\n",
       "   ('accept', 4)]},\n",
       " 'vocabulary size': [3407, 3137]}"
      ]
     },
     "execution_count": 7,
     "metadata": {},
     "output_type": "execute_result"
    }
   ],
   "source": [
    "pos_stats('4JM.txt')"
   ]
  },
  {
   "cell_type": "markdown",
   "metadata": {},
   "source": [
    "### James Monroe (1817-1824)"
   ]
  },
  {
   "cell_type": "code",
   "execution_count": 8,
   "metadata": {
    "collapsed": false
   },
   "outputs": [
    {
     "data": {
      "text/plain": [
       "{'POS counts': {None: 31316,\n",
       "  'adjectives': 3078,\n",
       "  'adverbs': 1381,\n",
       "  'noun': 7381,\n",
       "  'pronouns': 1288,\n",
       "  'verbs': 1579},\n",
       " 'avg chars per word': 4.544700080384105,\n",
       " 'number of capital letters': 3541,\n",
       " 'stop word frequency': 0.5404418953268592,\n",
       " 'top words by pos': {None: [('``', 4)],\n",
       "  'adjectives': [('other', 161),\n",
       "   ('great', 160),\n",
       "   ('such', 115),\n",
       "   ('last', 94),\n",
       "   ('important', 50),\n",
       "   ('necessary', 48),\n",
       "   ('several', 46),\n",
       "   ('new', 44),\n",
       "   ('first', 43),\n",
       "   ('whole', 43)],\n",
       "  'adverbs': [('not', 219),\n",
       "   ('so', 71),\n",
       "   ('also', 45),\n",
       "   ('now', 38),\n",
       "   ('just', 37),\n",
       "   ('very', 34),\n",
       "   ('only', 32),\n",
       "   ('however', 31),\n",
       "   ('well', 28),\n",
       "   ('still', 27)],\n",
       "  'noun': [('government', 166),\n",
       "   ('congress', 106),\n",
       "   ('spain', 93),\n",
       "   ('treaty', 77),\n",
       "   ('year', 73),\n",
       "   ('public', 72),\n",
       "   ('state', 71),\n",
       "   ('war', 71),\n",
       "   ('power', 65),\n",
       "   ('commerce', 64)],\n",
       "  'pronouns': [('it', 655),\n",
       "   ('them', 143),\n",
       "   ('we', 119),\n",
       "   ('they', 113),\n",
       "   ('i', 100),\n",
       "   ('us', 34),\n",
       "   ('he', 26),\n",
       "   ('themselves', 22),\n",
       "   ('you', 21),\n",
       "   ('itself', 16)],\n",
       "  'verbs': [('be', 563),\n",
       "   ('have', 62),\n",
       "   ('make', 25),\n",
       "   ('give', 19),\n",
       "   ('fail', 14),\n",
       "   ('likewise', 13),\n",
       "   ('believe', 12),\n",
       "   ('extend', 12),\n",
       "   ('meet', 12),\n",
       "   ('preserve', 12)]},\n",
       " 'vocabulary size': [4039, 3728]}"
      ]
     },
     "execution_count": 8,
     "metadata": {},
     "output_type": "execute_result"
    }
   ],
   "source": [
    "pos_stats('5JM.txt')"
   ]
  },
  {
   "cell_type": "markdown",
   "metadata": {},
   "source": [
    "### John Quincy Adams (1825-1828)"
   ]
  },
  {
   "cell_type": "code",
   "execution_count": 9,
   "metadata": {
    "collapsed": false
   },
   "outputs": [
    {
     "data": {
      "text/plain": [
       "{'POS counts': {None: 23264,\n",
       "  'adjectives': 2366,\n",
       "  'adverbs': 971,\n",
       "  'noun': 5614,\n",
       "  'pronouns': 664,\n",
       "  'verbs': 858},\n",
       " 'avg chars per word': 4.619112506665087,\n",
       " 'number of capital letters': 2456,\n",
       " 'stop word frequency': 0.5335031696190533,\n",
       " 'top words by pos': {None: [('``', 2)],\n",
       "  'adjectives': [('other', 95),\n",
       "   ('last', 92),\n",
       "   ('great', 71),\n",
       "   ('first', 53),\n",
       "   ('own', 50),\n",
       "   ('same', 42),\n",
       "   ('commercial', 36),\n",
       "   ('national', 29),\n",
       "   ('general', 28),\n",
       "   ('navy', 27)],\n",
       "  'adverbs': [('not', 111),\n",
       "   ('so', 51),\n",
       "   ('now', 34),\n",
       "   ('only', 33),\n",
       "   ('yet', 30),\n",
       "   ('still', 27),\n",
       "   ('even', 21),\n",
       "   ('far', 20),\n",
       "   ('nearly', 20),\n",
       "   ('ever', 18)],\n",
       "  'noun': [('congress', 131),\n",
       "   ('year', 81),\n",
       "   ('act', 72),\n",
       "   ('government', 61),\n",
       "   ('country', 57),\n",
       "   ('union', 51),\n",
       "   ('present', 50),\n",
       "   ('war', 50),\n",
       "   ('nation', 49),\n",
       "   ('improvement', 46)],\n",
       "  'pronouns': [('it', 250),\n",
       "   ('them', 105),\n",
       "   ('they', 86),\n",
       "   ('we', 85),\n",
       "   ('i', 28),\n",
       "   ('he', 20),\n",
       "   ('itself', 19),\n",
       "   ('us', 19),\n",
       "   ('themselves', 14),\n",
       "   ('you', 14)],\n",
       "  'verbs': [('be', 284),\n",
       "   ('have', 36),\n",
       "   ('continue', 10),\n",
       "   ('produce', 7),\n",
       "   ('provide', 7),\n",
       "   ('receive', 7),\n",
       "   ('require', 7),\n",
       "   ('ascertain', 6),\n",
       "   ('come', 6),\n",
       "   ('contribute', 6)]},\n",
       " 'vocabulary size': [4114, 3820]}"
      ]
     },
     "execution_count": 9,
     "metadata": {},
     "output_type": "execute_result"
    }
   ],
   "source": [
    "pos_stats('6JQA.txt')"
   ]
  },
  {
   "cell_type": "markdown",
   "metadata": {},
   "source": [
    "### Andrew Jackson (1829-1836)"
   ]
  },
  {
   "cell_type": "code",
   "execution_count": 10,
   "metadata": {
    "collapsed": false
   },
   "outputs": [
    {
     "data": {
      "text/plain": [
       "{'POS counts': {None: 61271,\n",
       "  'adjectives': 5973,\n",
       "  'adverbs': 3276,\n",
       "  'noun': 15029,\n",
       "  'pronouns': 2593,\n",
       "  'verbs': 3517},\n",
       " 'avg chars per word': 4.610466955355098,\n",
       " 'number of capital letters': 6203,\n",
       " 'stop word frequency': 0.5420761570261455,\n",
       " 'top words by pos': {None: [('``', 16)],\n",
       "  'adjectives': [('such', 223),\n",
       "   ('other', 159),\n",
       "   ('great', 146),\n",
       "   ('general', 138),\n",
       "   ('last', 119),\n",
       "   ('necessary', 110),\n",
       "   ('new', 84),\n",
       "   ('public', 84),\n",
       "   ('same', 84),\n",
       "   ('important', 83)],\n",
       "  'adverbs': [('not', 546),\n",
       "   ('so', 196),\n",
       "   ('now', 128),\n",
       "   ('well', 79),\n",
       "   ('only', 74),\n",
       "   ('however', 69),\n",
       "   ('just', 67),\n",
       "   ('ever', 65),\n",
       "   ('thus', 56),\n",
       "   ('yet', 56)],\n",
       "  'noun': [('government', 431),\n",
       "   ('congress', 236),\n",
       "   ('country', 185),\n",
       "   ('public', 181),\n",
       "   ('state', 172),\n",
       "   ('subject', 156),\n",
       "   ('present', 146),\n",
       "   ('power', 134),\n",
       "   ('time', 134),\n",
       "   ('treaty', 113)],\n",
       "  'pronouns': [('it', 1028),\n",
       "   ('i', 424),\n",
       "   ('they', 268),\n",
       "   ('them', 196),\n",
       "   ('we', 176),\n",
       "   ('you', 112),\n",
       "   ('us', 100),\n",
       "   ('me', 76),\n",
       "   ('he', 57),\n",
       "   ('him', 45)],\n",
       "  'verbs': [('be', 1193),\n",
       "   ('have', 123),\n",
       "   ('make', 59),\n",
       "   ('give', 33),\n",
       "   ('receive', 33),\n",
       "   ('pay', 30),\n",
       "   ('require', 24),\n",
       "   ('avoid', 21),\n",
       "   ('secure', 21),\n",
       "   ('expect', 20)]},\n",
       " 'vocabulary size': [6294, 5925]}"
      ]
     },
     "execution_count": 10,
     "metadata": {},
     "output_type": "execute_result"
    }
   ],
   "source": [
    "pos_stats('7AJ.txt')"
   ]
  },
  {
   "cell_type": "markdown",
   "metadata": {},
   "source": [
    "### Martin van Buren (1837-1840)"
   ]
  },
  {
   "cell_type": "code",
   "execution_count": 11,
   "metadata": {
    "collapsed": false
   },
   "outputs": [
    {
     "data": {
      "text/plain": [
       "{'POS counts': {None: 32921,\n",
       "  'adjectives': 3508,\n",
       "  'adverbs': 1824,\n",
       "  'noun': 7953,\n",
       "  'pronouns': 1229,\n",
       "  'verbs': 1561},\n",
       " 'avg chars per word': 4.661721794845635,\n",
       " 'number of capital letters': 3115,\n",
       " 'stop word frequency': 0.5309037484440998,\n",
       " 'top words by pos': {None: [('``', 7)],\n",
       "  'adjectives': [('such', 110),\n",
       "   ('general', 85),\n",
       "   ('other', 85),\n",
       "   ('public', 76),\n",
       "   ('great', 72),\n",
       "   ('last', 68),\n",
       "   ('new', 66),\n",
       "   ('own', 60),\n",
       "   ('same', 60),\n",
       "   ('large', 52)],\n",
       "  'adverbs': [('not', 242),\n",
       "   ('so', 120),\n",
       "   ('now', 66),\n",
       "   ('only', 62),\n",
       "   ('also', 50),\n",
       "   ('thus', 35),\n",
       "   ('well', 33),\n",
       "   ('still', 31),\n",
       "   ('however', 29),\n",
       "   ('yet', 29)],\n",
       "  'noun': [('government', 255),\n",
       "   ('public', 131),\n",
       "   ('country', 110),\n",
       "   ('congress', 93),\n",
       "   ('state', 82),\n",
       "   ('time', 78),\n",
       "   ('subject', 63),\n",
       "   ('treasury', 62),\n",
       "   ('system', 61),\n",
       "   ('year', 61)],\n",
       "  'pronouns': [('it', 459),\n",
       "   ('they', 174),\n",
       "   ('them', 167),\n",
       "   ('i', 164),\n",
       "   ('we', 64),\n",
       "   ('you', 52),\n",
       "   ('us', 32),\n",
       "   ('me', 30),\n",
       "   ('themselves', 30),\n",
       "   ('itself', 17)],\n",
       "  'verbs': [('be', 509),\n",
       "   ('have', 50),\n",
       "   ('make', 21),\n",
       "   ('maintain', 16),\n",
       "   ('require', 16),\n",
       "   ('prevent', 15),\n",
       "   ('bring', 14),\n",
       "   ('carry', 14),\n",
       "   ('afford', 12),\n",
       "   ('believe', 12)]},\n",
       " 'vocabulary size': [4915, 4558]}"
      ]
     },
     "execution_count": 11,
     "metadata": {},
     "output_type": "execute_result"
    }
   ],
   "source": [
    "pos_stats('8MVB.txt')"
   ]
  },
  {
   "cell_type": "markdown",
   "metadata": {},
   "source": [
    "### John Tyler (1841-1844)"
   ]
  },
  {
   "cell_type": "code",
   "execution_count": 12,
   "metadata": {
    "collapsed": false
   },
   "outputs": [
    {
     "data": {
      "text/plain": [
       "{'POS counts': {None: 24246,\n",
       "  'adjectives': 2394,\n",
       "  'adverbs': 1260,\n",
       "  'noun': 6256,\n",
       "  'pronouns': 872,\n",
       "  'verbs': 1508},\n",
       " 'avg chars per word': 4.588795533539506,\n",
       " 'number of capital letters': 2459,\n",
       " 'stop word frequency': 0.5375078683050987,\n",
       " 'top words by pos': {None: [('``', 2)],\n",
       "  'adjectives': [('great', 101),\n",
       "   ('such', 100),\n",
       "   ('other', 91),\n",
       "   ('last', 51),\n",
       "   ('same', 41),\n",
       "   ('necessary', 36),\n",
       "   ('many', 31),\n",
       "   ('foreign', 29),\n",
       "   ('own', 29),\n",
       "   ('large', 28)],\n",
       "  'adverbs': [('not', 183),\n",
       "   ('so', 83),\n",
       "   ('only', 48),\n",
       "   ('thus', 40),\n",
       "   ('well', 40),\n",
       "   ('now', 32),\n",
       "   ('however', 28),\n",
       "   ('also', 26),\n",
       "   ('far', 26),\n",
       "   ('greatly', 21)],\n",
       "  'noun': [('government', 209),\n",
       "   ('congress', 85),\n",
       "   ('country', 79),\n",
       "   ('time', 67),\n",
       "   ('public', 63),\n",
       "   ('treasury', 59),\n",
       "   ('state', 56),\n",
       "   ('mexico', 51),\n",
       "   ('amount', 50),\n",
       "   ('war', 48)],\n",
       "  'pronouns': [('it', 335),\n",
       "   ('i', 139),\n",
       "   ('them', 77),\n",
       "   ('you', 58),\n",
       "   ('we', 54),\n",
       "   ('they', 48),\n",
       "   ('us', 28),\n",
       "   ('itself', 26),\n",
       "   ('she', 20),\n",
       "   ('he', 18)],\n",
       "  'verbs': [('be', 456),\n",
       "   ('have', 71),\n",
       "   ('make', 21),\n",
       "   ('do', 17),\n",
       "   ('take', 14),\n",
       "   ('receive', 13),\n",
       "   ('but', 11),\n",
       "   ('meet', 11),\n",
       "   ('require', 11),\n",
       "   ('fail', 10)]},\n",
       " 'vocabulary size': [4278, 3955]}"
      ]
     },
     "execution_count": 12,
     "metadata": {},
     "output_type": "execute_result"
    }
   ],
   "source": [
    "pos_stats('10JT.txt')"
   ]
  },
  {
   "cell_type": "markdown",
   "metadata": {},
   "source": [
    "### James Polk (1845-1848)"
   ]
  },
  {
   "cell_type": "code",
   "execution_count": 13,
   "metadata": {
    "collapsed": false
   },
   "outputs": [
    {
     "data": {
      "text/plain": [
       "{'POS counts': {None: 52999,\n",
       "  'adjectives': 5271,\n",
       "  'adverbs': 2225,\n",
       "  'noun': 12995,\n",
       "  'pronouns': 2038,\n",
       "  'verbs': 2920},\n",
       " 'avg chars per word': 4.536808838708855,\n",
       " 'number of capital letters': 6436,\n",
       " 'stop word frequency': 0.5226765894001758,\n",
       " 'top words by pos': {None: [('``', 126)],\n",
       "  'adjectives': [('such', 196),\n",
       "   ('other', 175),\n",
       "   ('last', 130),\n",
       "   ('great', 128),\n",
       "   ('foreign', 99),\n",
       "   ('new', 98),\n",
       "   ('own', 93),\n",
       "   ('same', 76),\n",
       "   ('necessary', 73),\n",
       "   ('public', 71)],\n",
       "  'adverbs': [('not', 353),\n",
       "   ('so', 120),\n",
       "   ('just', 67),\n",
       "   ('now', 64),\n",
       "   ('only', 62),\n",
       "   ('well', 56),\n",
       "   ('thus', 51),\n",
       "   ('still', 50),\n",
       "   ('also', 45),\n",
       "   ('ever', 37)],\n",
       "  'noun': [('government', 323),\n",
       "   ('mexico', 319),\n",
       "   ('war', 251),\n",
       "   ('congress', 221),\n",
       "   ('country', 216),\n",
       "   ('public', 139),\n",
       "   ('power', 130),\n",
       "   ('state', 112),\n",
       "   ('act', 111),\n",
       "   ('peace', 111)],\n",
       "  'pronouns': [('it', 774),\n",
       "   ('they', 269),\n",
       "   ('them', 239),\n",
       "   ('i', 168),\n",
       "   ('he', 154),\n",
       "   ('we', 151),\n",
       "   ('him', 56),\n",
       "   ('she', 47),\n",
       "   ('themselves', 38),\n",
       "   ('you', 34)],\n",
       "  'verbs': [('be', 943),\n",
       "   ('have', 123),\n",
       "   ('make', 52),\n",
       "   ('mexico', 33),\n",
       "   ('become', 26),\n",
       "   ('give', 25),\n",
       "   ('pay', 20),\n",
       "   ('meet', 19),\n",
       "   ('remain', 19),\n",
       "   ('take', 19)]},\n",
       " 'vocabulary size': [5722, 5347]}"
      ]
     },
     "execution_count": 13,
     "metadata": {},
     "output_type": "execute_result"
    }
   ],
   "source": [
    "pos_stats('11JP.txt')"
   ]
  },
  {
   "cell_type": "markdown",
   "metadata": {},
   "source": [
    "### Zachary Taylor (1849)"
   ]
  },
  {
   "cell_type": "code",
   "execution_count": 14,
   "metadata": {
    "collapsed": false
   },
   "outputs": [
    {
     "data": {
      "text/plain": [
       "{'POS counts': {None: 5411,\n",
       "  'adjectives': 575,\n",
       "  'adverbs': 211,\n",
       "  'noun': 1468,\n",
       "  'pronouns': 222,\n",
       "  'verbs': 337},\n",
       " 'avg chars per word': 4.661196207148067,\n",
       " 'number of capital letters': 777,\n",
       " 'stop word frequency': 0.524677850717238,\n",
       " 'top words by pos': {None: [('``', 4)],\n",
       "  'adjectives': [('such', 29),\n",
       "   ('new', 18),\n",
       "   ('other', 18),\n",
       "   ('great', 13),\n",
       "   ('necessary', 12),\n",
       "   ('same', 12),\n",
       "   ('american', 9),\n",
       "   ('further', 9),\n",
       "   ('republic', 9),\n",
       "   ('secretary', 9)],\n",
       "  'adverbs': [('not', 30),\n",
       "   ('also', 10),\n",
       "   ('now', 9),\n",
       "   ('well', 8),\n",
       "   ('so', 7),\n",
       "   ('especially', 6),\n",
       "   ('only', 5),\n",
       "   ('respectfully', 5),\n",
       "   ('still', 5),\n",
       "   ('therefore', 5)],\n",
       "  'noun': [('congress', 36),\n",
       "   ('government', 34),\n",
       "   ('treaty', 18),\n",
       "   ('california', 15),\n",
       "   ('country', 14),\n",
       "   ('mexico', 14),\n",
       "   ('state', 14),\n",
       "   ('act', 13),\n",
       "   ('constitution', 13),\n",
       "   ('power', 13)],\n",
       "  'pronouns': [('it', 77),\n",
       "   ('i', 62),\n",
       "   ('we', 20),\n",
       "   ('them', 13),\n",
       "   ('they', 12),\n",
       "   ('he', 6),\n",
       "   ('him', 6),\n",
       "   ('us', 6),\n",
       "   ('you', 6),\n",
       "   ('me', 5)],\n",
       "  'verbs': [('be', 102),\n",
       "   ('have', 7),\n",
       "   ('become', 6),\n",
       "   ('maintain', 5),\n",
       "   ('make', 5),\n",
       "   ('do', 4),\n",
       "   ('encourage', 3),\n",
       "   ('examine', 3),\n",
       "   ('fail', 3),\n",
       "   ('give', 3)]},\n",
       " 'vocabulary size': [1869, 1644]}"
      ]
     },
     "execution_count": 14,
     "metadata": {},
     "output_type": "execute_result"
    }
   ],
   "source": [
    "pos_stats('12ZT.txt')"
   ]
  },
  {
   "cell_type": "markdown",
   "metadata": {},
   "source": [
    "### Millard Fillmore (1850-1852)"
   ]
  },
  {
   "cell_type": "code",
   "execution_count": 15,
   "metadata": {
    "collapsed": false
   },
   "outputs": [
    {
     "data": {
      "text/plain": [
       "{'POS counts': {None: 22890,\n",
       "  'adjectives': 2290,\n",
       "  'adverbs': 1025,\n",
       "  'noun': 5831,\n",
       "  'pronouns': 846,\n",
       "  'verbs': 1178},\n",
       " 'avg chars per word': 4.606316778208289,\n",
       " 'number of capital letters': 2572,\n",
       " 'stop word frequency': 0.5303217095221322,\n",
       " 'top words by pos': {None: [('``', 12)],\n",
       "  'adjectives': [('such', 101),\n",
       "   ('last', 82),\n",
       "   ('other', 63),\n",
       "   ('foreign', 56),\n",
       "   ('great', 50),\n",
       "   ('necessary', 40),\n",
       "   ('own', 40),\n",
       "   ('new', 34),\n",
       "   ('same', 33),\n",
       "   ('annual', 29)],\n",
       "  'adverbs': [('not', 120),\n",
       "   ('so', 56),\n",
       "   ('also', 37),\n",
       "   ('however', 32),\n",
       "   ('now', 31),\n",
       "   ('only', 25),\n",
       "   ('well', 24),\n",
       "   ('very', 17),\n",
       "   ('yet', 17),\n",
       "   ('far', 16)],\n",
       "  'noun': [('government', 131),\n",
       "   ('country', 104),\n",
       "   ('congress', 88),\n",
       "   ('year', 75),\n",
       "   ('subject', 59),\n",
       "   ('law', 54),\n",
       "   ('state', 54),\n",
       "   ('department', 53),\n",
       "   ('duty', 46),\n",
       "   ('public', 40)],\n",
       "  'pronouns': [('it', 295),\n",
       "   ('i', 175),\n",
       "   ('they', 89),\n",
       "   ('them', 70),\n",
       "   ('we', 52),\n",
       "   ('you', 37),\n",
       "   ('he', 33),\n",
       "   ('us', 26),\n",
       "   ('me', 24),\n",
       "   ('him', 10)],\n",
       "  'verbs': [('be', 396),\n",
       "   ('make', 28),\n",
       "   ('have', 27),\n",
       "   ('give', 14),\n",
       "   ('maintain', 12),\n",
       "   ('protect', 11),\n",
       "   ('become', 9),\n",
       "   ('require', 9),\n",
       "   ('carry', 8),\n",
       "   ('see', 8)]},\n",
       " 'vocabulary size': [4386, 4039]}"
      ]
     },
     "execution_count": 15,
     "metadata": {},
     "output_type": "execute_result"
    }
   ],
   "source": [
    "pos_stats('13MF.txt')"
   ]
  },
  {
   "cell_type": "markdown",
   "metadata": {},
   "source": [
    "### Franklin Pierce (1853-1856)"
   ]
  },
  {
   "cell_type": "code",
   "execution_count": 16,
   "metadata": {
    "collapsed": false
   },
   "outputs": [
    {
     "data": {
      "text/plain": [
       "{'POS counts': {None: 30140,\n",
       "  'adjectives': 3455,\n",
       "  'adverbs': 1534,\n",
       "  'noun': 7886,\n",
       "  'pronouns': 983,\n",
       "  'verbs': 1365},\n",
       " 'avg chars per word': 4.679355492858402,\n",
       " 'number of capital letters': 3536,\n",
       " 'stop word frequency': 0.514018691588785,\n",
       " 'top words by pos': {None: [('``', 16)],\n",
       "  'adjectives': [('such', 109),\n",
       "   ('great', 105),\n",
       "   ('other', 101),\n",
       "   ('last', 65),\n",
       "   ('general', 56),\n",
       "   ('new', 52),\n",
       "   ('public', 51),\n",
       "   ('foreign', 50),\n",
       "   ('same', 47),\n",
       "   ('political', 46)],\n",
       "  'adverbs': [('not', 232),\n",
       "   ('so', 76),\n",
       "   ('only', 72),\n",
       "   ('thus', 58),\n",
       "   ('now', 52),\n",
       "   ('also', 39),\n",
       "   ('well', 30),\n",
       "   ('still', 28),\n",
       "   ('yet', 26),\n",
       "   ('far', 22)],\n",
       "  'noun': [('government', 173),\n",
       "   ('congress', 108),\n",
       "   ('country', 87),\n",
       "   ('union', 81),\n",
       "   ('state', 76),\n",
       "   ('time', 66),\n",
       "   ('part', 65),\n",
       "   ('subject', 65),\n",
       "   ('law', 64),\n",
       "   ('public', 63)],\n",
       "  'pronouns': [('it', 422),\n",
       "   ('i', 127),\n",
       "   ('they', 113),\n",
       "   ('them', 84),\n",
       "   ('we', 41),\n",
       "   ('he', 34),\n",
       "   ('us', 32),\n",
       "   ('me', 30),\n",
       "   ('themselves', 24),\n",
       "   ('you', 24)],\n",
       "  'verbs': [('be', 350),\n",
       "   ('have', 54),\n",
       "   ('give', 18),\n",
       "   ('make', 15),\n",
       "   ('maintain', 14),\n",
       "   ('take', 12),\n",
       "   ('believe', 11),\n",
       "   ('act', 9),\n",
       "   ('continue', 9),\n",
       "   ('meet', 9)]},\n",
       " 'vocabulary size': [5047, 4688]}"
      ]
     },
     "execution_count": 16,
     "metadata": {},
     "output_type": "execute_result"
    }
   ],
   "source": [
    "pos_stats('14FP.txt')"
   ]
  },
  {
   "cell_type": "markdown",
   "metadata": {},
   "source": [
    "### James Buchanan (1857-1860)"
   ]
  },
  {
   "cell_type": "code",
   "execution_count": 17,
   "metadata": {
    "collapsed": false
   },
   "outputs": [
    {
     "data": {
      "text/plain": [
       "{'POS counts': {None: 40467,\n",
       "  'adjectives': 4332,\n",
       "  'adverbs': 2152,\n",
       "  'noun': 10678,\n",
       "  'pronouns': 1626,\n",
       "  'verbs': 2448},\n",
       " 'avg chars per word': 4.577206537408685,\n",
       " 'number of capital letters': 5713,\n",
       " 'stop word frequency': 0.520984174806032,\n",
       " 'top words by pos': {None: [('``', 155)],\n",
       "  'adjectives': [('such', 177),\n",
       "   ('other', 140),\n",
       "   ('last', 104),\n",
       "   ('great', 85),\n",
       "   ('own', 80),\n",
       "   ('necessary', 72),\n",
       "   ('same', 68),\n",
       "   ('fiscal', 58),\n",
       "   ('republic', 58),\n",
       "   ('general', 50)],\n",
       "  'adverbs': [('not', 323),\n",
       "   ('so', 77),\n",
       "   ('then', 60),\n",
       "   ('now', 59),\n",
       "   ('well', 48),\n",
       "   ('however', 47),\n",
       "   ('thus', 47),\n",
       "   ('only', 44),\n",
       "   ('never', 43),\n",
       "   ('still', 43)],\n",
       "  'noun': [('government', 277),\n",
       "   ('congress', 222),\n",
       "   ('constitution', 173),\n",
       "   ('state', 156),\n",
       "   ('power', 125),\n",
       "   ('year', 115),\n",
       "   ('country', 108),\n",
       "   ('present', 100),\n",
       "   ('union', 98),\n",
       "   ('time', 97)],\n",
       "  'pronouns': [('it', 575),\n",
       "   ('i', 259),\n",
       "   ('they', 215),\n",
       "   ('them', 135),\n",
       "   ('we', 131),\n",
       "   ('he', 104),\n",
       "   ('themselves', 33),\n",
       "   ('us', 32),\n",
       "   ('itself', 30),\n",
       "   ('him', 26)],\n",
       "  'verbs': [('be', 647),\n",
       "   ('have', 143),\n",
       "   ('make', 33),\n",
       "   ('carry', 22),\n",
       "   ('do', 22),\n",
       "   ('protect', 22),\n",
       "   ('take', 22),\n",
       "   ('prevent', 20),\n",
       "   ('employ', 19),\n",
       "   ('secure', 18)]},\n",
       " 'vocabulary size': [5345, 4964]}"
      ]
     },
     "execution_count": 17,
     "metadata": {},
     "output_type": "execute_result"
    }
   ],
   "source": [
    "pos_stats('15JB.txt')"
   ]
  },
  {
   "cell_type": "markdown",
   "metadata": {},
   "source": [
    "### Abraham Lincoln (1861-1864)"
   ]
  },
  {
   "cell_type": "code",
   "execution_count": 18,
   "metadata": {
    "collapsed": false
   },
   "outputs": [
    {
     "data": {
      "text/plain": [
       "{'POS counts': {None: 19972,\n",
       "  'adjectives': 2224,\n",
       "  'adverbs': 1284,\n",
       "  'noun': 4904,\n",
       "  'pronouns': 829,\n",
       "  'verbs': 1034},\n",
       " 'avg chars per word': 4.531990090834022,\n",
       " 'number of capital letters': 2529,\n",
       " 'stop word frequency': 0.5106853839801817,\n",
       " 'top words by pos': {None: [('``', 8)],\n",
       "  'adjectives': [('such', 82),\n",
       "   ('other', 69),\n",
       "   ('great', 60),\n",
       "   ('last', 56),\n",
       "   ('national', 49),\n",
       "   ('new', 48),\n",
       "   ('same', 39),\n",
       "   ('general', 38),\n",
       "   ('foreign', 37),\n",
       "   ('free', 27)],\n",
       "  'adverbs': [('not', 200),\n",
       "   ('so', 66),\n",
       "   ('now', 64),\n",
       "   ('also', 39),\n",
       "   ('only', 31),\n",
       "   ('there', 26),\n",
       "   ('much', 24),\n",
       "   ('yet', 24),\n",
       "   ('thus', 23),\n",
       "   ('well', 23)],\n",
       "  'noun': [('congress', 81),\n",
       "   ('government', 75),\n",
       "   ('year', 68),\n",
       "   ('war', 65),\n",
       "   ('country', 63),\n",
       "   ('union', 54),\n",
       "   ('time', 50),\n",
       "   ('state', 45),\n",
       "   ('part', 38),\n",
       "   ('department', 36)],\n",
       "  'pronouns': [('it', 305),\n",
       "   ('i', 166),\n",
       "   ('we', 106),\n",
       "   ('them', 82),\n",
       "   ('they', 55),\n",
       "   ('us', 26),\n",
       "   ('you', 19),\n",
       "   ('he', 17),\n",
       "   ('themselves', 14),\n",
       "   ('itself', 13)],\n",
       "  'verbs': [('be', 318),\n",
       "   ('have', 34),\n",
       "   ('make', 16),\n",
       "   ('pay', 12),\n",
       "   ('do', 11),\n",
       "   ('give', 11),\n",
       "   ('provide', 9),\n",
       "   ('say', 9),\n",
       "   ('take', 9),\n",
       "   ('become', 8)]},\n",
       " 'vocabulary size': [4240, 3896]}"
      ]
     },
     "execution_count": 18,
     "metadata": {},
     "output_type": "execute_result"
    }
   ],
   "source": [
    "pos_stats('16AL.txt')"
   ]
  },
  {
   "cell_type": "markdown",
   "metadata": {},
   "source": [
    "### Andrew Johnson (1865-1868)"
   ]
  },
  {
   "cell_type": "code",
   "execution_count": 19,
   "metadata": {
    "collapsed": false
   },
   "outputs": [
    {
     "data": {
      "text/plain": [
       "{'POS counts': {None: 28088,\n",
       "  'adjectives': 2859,\n",
       "  'adverbs': 1493,\n",
       "  'noun': 7137,\n",
       "  'pronouns': 947,\n",
       "  'verbs': 1367},\n",
       " 'avg chars per word': 4.60599408227546,\n",
       " 'number of capital letters': 3263,\n",
       " 'stop word frequency': 0.5096878877541281,\n",
       " 'top words by pos': {None: [('``', 40)],\n",
       "  'adjectives': [('great', 84),\n",
       "   ('national', 66),\n",
       "   ('other', 66),\n",
       "   ('last', 61),\n",
       "   ('such', 61),\n",
       "   ('own', 48),\n",
       "   ('general', 46),\n",
       "   ('free', 39),\n",
       "   ('military', 36),\n",
       "   ('political', 36)],\n",
       "  'adverbs': [('not', 226),\n",
       "   ('so', 90),\n",
       "   ('now', 62),\n",
       "   ('only', 43),\n",
       "   ('however', 30),\n",
       "   ('just', 28),\n",
       "   ('well', 28),\n",
       "   ('thus', 27),\n",
       "   ('long', 25),\n",
       "   ('much', 21)],\n",
       "  'noun': [('government', 207),\n",
       "   ('constitution', 115),\n",
       "   ('congress', 110),\n",
       "   ('war', 96),\n",
       "   ('country', 91),\n",
       "   ('year', 86),\n",
       "   ('union', 68),\n",
       "   ('state', 64),\n",
       "   ('power', 59),\n",
       "   ('time', 57)],\n",
       "  'pronouns': [('it', 390),\n",
       "   ('they', 106),\n",
       "   ('we', 102),\n",
       "   ('i', 94),\n",
       "   ('them', 75),\n",
       "   ('us', 52),\n",
       "   ('he', 34),\n",
       "   ('themselves', 25),\n",
       "   ('itself', 21),\n",
       "   ('you', 14)],\n",
       "  'verbs': [('be', 449),\n",
       "   ('have', 60),\n",
       "   ('become', 18),\n",
       "   ('make', 16),\n",
       "   ('protect', 13),\n",
       "   ('give', 12),\n",
       "   ('let', 11),\n",
       "   ('take', 11),\n",
       "   ('preserve', 10),\n",
       "   ('require', 10)]},\n",
       " 'vocabulary size': [4938, 4592]}"
      ]
     },
     "execution_count": 19,
     "metadata": {},
     "output_type": "execute_result"
    }
   ],
   "source": [
    "pos_stats('17AJ.txt')"
   ]
  },
  {
   "cell_type": "markdown",
   "metadata": {},
   "source": [
    "### Ulysses S. Grant (1869-1876)"
   ]
  },
  {
   "cell_type": "code",
   "execution_count": 20,
   "metadata": {
    "collapsed": false
   },
   "outputs": [
    {
     "data": {
      "text/plain": [
       "{'POS counts': {None: 48281,\n",
       "  'adjectives': 4701,\n",
       "  'adverbs': 2312,\n",
       "  'noun': 12049,\n",
       "  'pronouns': 1578,\n",
       "  'verbs': 2425},\n",
       " 'avg chars per word': 4.555521309086833,\n",
       " 'number of capital letters': 6131,\n",
       " 'stop word frequency': 0.5140379388607134,\n",
       " 'top words by pos': {None: [('``', 40)],\n",
       "  'adjectives': [('such', 187),\n",
       "   ('other', 149),\n",
       "   ('great', 133),\n",
       "   ('last', 125),\n",
       "   ('foreign', 74),\n",
       "   ('necessary', 67),\n",
       "   ('large', 62),\n",
       "   ('same', 60),\n",
       "   ('new', 56),\n",
       "   ('many', 54)],\n",
       "  'adverbs': [('not', 346),\n",
       "   ('so', 141),\n",
       "   ('now', 116),\n",
       "   ('also', 67),\n",
       "   ('only', 64),\n",
       "   ('however', 56),\n",
       "   ('thus', 50),\n",
       "   ('far', 47),\n",
       "   ('well', 45),\n",
       "   ('much', 42)],\n",
       "  'noun': [('government', 287),\n",
       "   ('congress', 241),\n",
       "   ('year', 171),\n",
       "   ('country', 138),\n",
       "   ('time', 121),\n",
       "   ('part', 96),\n",
       "   ('report', 91),\n",
       "   ('attention', 88),\n",
       "   ('law', 87),\n",
       "   ('state', 87)],\n",
       "  'pronouns': [('it', 580),\n",
       "   ('i', 425),\n",
       "   ('they', 148),\n",
       "   ('them', 133),\n",
       "   ('we', 85),\n",
       "   ('me', 43),\n",
       "   ('us', 39),\n",
       "   ('he', 28),\n",
       "   ('itself', 21),\n",
       "   ('you', 21)],\n",
       "  'verbs': [('be', 781),\n",
       "   ('have', 84),\n",
       "   ('secure', 42),\n",
       "   ('make', 38),\n",
       "   ('take', 28),\n",
       "   ('give', 27),\n",
       "   ('become', 26),\n",
       "   ('provide', 26),\n",
       "   ('do', 20),\n",
       "   ('receive', 17)]},\n",
       " 'vocabulary size': [6270, 5891]}"
      ]
     },
     "execution_count": 20,
     "metadata": {},
     "output_type": "execute_result"
    }
   ],
   "source": [
    "pos_stats('18USG.txt')"
   ]
  },
  {
   "cell_type": "markdown",
   "metadata": {},
   "source": [
    "### Rutherford B. Hayes (1877-1880)"
   ]
  },
  {
   "cell_type": "code",
   "execution_count": 21,
   "metadata": {
    "collapsed": false
   },
   "outputs": [
    {
     "data": {
      "text/plain": [
       "{'POS counts': {None: 24966,\n",
       "  'adjectives': 2734,\n",
       "  'adverbs': 1119,\n",
       "  'noun': 6694,\n",
       "  'pronouns': 591,\n",
       "  'verbs': 1116},\n",
       " 'avg chars per word': 4.70405285633712,\n",
       " 'number of capital letters': 2983,\n",
       " 'stop word frequency': 0.503907823704778,\n",
       " 'top words by pos': {None: [('``', 13)],\n",
       "  'adjectives': [('such', 100),\n",
       "   ('other', 70),\n",
       "   ('great', 52),\n",
       "   ('last', 49),\n",
       "   ('general', 46),\n",
       "   ('fiscal', 44),\n",
       "   ('public', 38),\n",
       "   ('national', 35),\n",
       "   ('important', 32),\n",
       "   ('new', 32)],\n",
       "  'adverbs': [('not', 122),\n",
       "   ('now', 59),\n",
       "   ('so', 51),\n",
       "   ('also', 37),\n",
       "   ('only', 33),\n",
       "   ('well', 26),\n",
       "   ('however', 22),\n",
       "   ('very', 22),\n",
       "   ('just', 20),\n",
       "   ('still', 18)],\n",
       "  'noun': [('government', 154),\n",
       "   ('congress', 146),\n",
       "   ('year', 113),\n",
       "   ('country', 103),\n",
       "   ('service', 82),\n",
       "   ('public', 73),\n",
       "   ('attention', 56),\n",
       "   ('interest', 50),\n",
       "   ('report', 47),\n",
       "   ('subject', 47)],\n",
       "  'pronouns': [('it', 254),\n",
       "   ('i', 147),\n",
       "   ('them', 55),\n",
       "   ('they', 55),\n",
       "   ('we', 20),\n",
       "   ('themselves', 15),\n",
       "   ('me', 12),\n",
       "   ('he', 11),\n",
       "   ('itself', 7),\n",
       "   ('you', 7)],\n",
       "  'verbs': [('be', 384),\n",
       "   ('have', 25),\n",
       "   ('make', 24),\n",
       "   ('secure', 13),\n",
       "   ('become', 11),\n",
       "   ('receive', 11),\n",
       "   ('take', 11),\n",
       "   ('give', 10),\n",
       "   ('pay', 10),\n",
       "   ('provide', 10)]},\n",
       " 'vocabulary size': [4430, 4126]}"
      ]
     },
     "execution_count": 21,
     "metadata": {},
     "output_type": "execute_result"
    }
   ],
   "source": [
    "pos_stats('19RBH.txt')"
   ]
  },
  {
   "cell_type": "markdown",
   "metadata": {},
   "source": [
    "### Chester A. Arthur (1881-1884)"
   ]
  },
  {
   "cell_type": "code",
   "execution_count": 22,
   "metadata": {
    "collapsed": false
   },
   "outputs": [
    {
     "data": {
      "text/plain": [
       "{'POS counts': {None: 14250,\n",
       "  'adjectives': 1591,\n",
       "  'adverbs': 570,\n",
       "  'noun': 3851,\n",
       "  'pronouns': 343,\n",
       "  'verbs': 557},\n",
       " 'avg chars per word': 4.831955792754924,\n",
       " 'number of capital letters': 2361,\n",
       " 'stop word frequency': 0.485807396212157,\n",
       " 'top words by pos': {None: [('``', 1)],\n",
       "  'adjectives': [('such', 68),\n",
       "   ('foreign', 36),\n",
       "   ('other', 36),\n",
       "   ('american', 33),\n",
       "   ('last', 30),\n",
       "   ('national', 29),\n",
       "   ('international', 25),\n",
       "   ('diplomatic', 22),\n",
       "   ('general', 22),\n",
       "   ('commercial', 20)],\n",
       "  'adverbs': [('not', 63),\n",
       "   ('now', 43),\n",
       "   ('so', 24),\n",
       "   ('thus', 20),\n",
       "   ('already', 15),\n",
       "   ('also', 15),\n",
       "   ('lately', 15),\n",
       "   ('july', 14),\n",
       "   ('only', 12),\n",
       "   ('still', 12)],\n",
       "  'noun': [('government', 129),\n",
       "   ('congress', 63),\n",
       "   ('treaty', 46),\n",
       "   ('country', 43),\n",
       "   ('year', 43),\n",
       "   ('intercourse', 26),\n",
       "   ('subject', 26),\n",
       "   ('attention', 25),\n",
       "   ('state', 24),\n",
       "   ('revenue', 23)],\n",
       "  'pronouns': [('it', 113),\n",
       "   ('i', 111),\n",
       "   ('they', 27),\n",
       "   ('you', 20),\n",
       "   ('we', 19),\n",
       "   ('them', 14),\n",
       "   ('me', 11),\n",
       "   ('he', 6),\n",
       "   ('us', 6),\n",
       "   ('itself', 5)],\n",
       "  'verbs': [('be', 195),\n",
       "   ('make', 15),\n",
       "   ('provide', 12),\n",
       "   ('become', 7),\n",
       "   ('meet', 7),\n",
       "   ('secure', 7),\n",
       "   ('attend', 5),\n",
       "   ('result', 5),\n",
       "   ('send', 5),\n",
       "   ('believe', 4)]},\n",
       " 'vocabulary size': [3702, 3416]}"
      ]
     },
     "execution_count": 22,
     "metadata": {},
     "output_type": "execute_result"
    }
   ],
   "source": [
    "pos_stats('21CA.txt')"
   ]
  },
  {
   "cell_type": "markdown",
   "metadata": {},
   "source": [
    "### Grover Cleveland (1885-1888, 1893-1896)"
   ]
  },
  {
   "cell_type": "code",
   "execution_count": 23,
   "metadata": {
    "collapsed": false
   },
   "outputs": [
    {
     "data": {
      "text/plain": [
       "{'POS counts': {None: 78023,\n",
       "  'adjectives': 8176,\n",
       "  'adverbs': 3803,\n",
       "  'noun': 21330,\n",
       "  'pronouns': 1890,\n",
       "  'verbs': 3200},\n",
       " 'avg chars per word': 4.734436415440861,\n",
       " 'number of capital letters': 8373,\n",
       " 'stop word frequency': 0.500660819416076,\n",
       " 'top words by pos': {None: [('``', 18)],\n",
       "  'adjectives': [('such', 401),\n",
       "   ('other', 195),\n",
       "   ('last', 194),\n",
       "   ('fiscal', 126),\n",
       "   ('great', 119),\n",
       "   ('american', 111),\n",
       "   ('necessary', 100),\n",
       "   ('foreign', 97),\n",
       "   ('public', 97),\n",
       "   ('large', 93)],\n",
       "  'adverbs': [('not', 499),\n",
       "   ('now', 169),\n",
       "   ('so', 146),\n",
       "   ('only', 129),\n",
       "   ('thus', 116),\n",
       "   ('also', 79),\n",
       "   ('well', 75),\n",
       "   ('far', 71),\n",
       "   ('however', 65),\n",
       "   ('still', 61)],\n",
       "  'noun': [('government', 561),\n",
       "   ('year', 433),\n",
       "   ('congress', 208),\n",
       "   ('present', 173),\n",
       "   ('country', 169),\n",
       "   ('gold', 160),\n",
       "   ('law', 156),\n",
       "   ('time', 156),\n",
       "   ('service', 154),\n",
       "   ('treasury', 141)],\n",
       "  'pronouns': [('it', 688),\n",
       "   ('i', 363),\n",
       "   ('they', 238),\n",
       "   ('we', 173),\n",
       "   ('them', 156),\n",
       "   ('he', 74),\n",
       "   ('us', 73),\n",
       "   ('me', 30),\n",
       "   ('themselves', 26),\n",
       "   ('him', 21)],\n",
       "  'verbs': [('be', 1172),\n",
       "   ('have', 65),\n",
       "   ('make', 47),\n",
       "   ('meet', 45),\n",
       "   ('prevent', 30),\n",
       "   ('secure', 30),\n",
       "   ('pay', 27),\n",
       "   ('maintain', 24),\n",
       "   ('give', 23),\n",
       "   ('protect', 19)]},\n",
       " 'vocabulary size': [9253, 8858]}"
      ]
     },
     "execution_count": 23,
     "metadata": {},
     "output_type": "execute_result"
    }
   ],
   "source": [
    "pos_stats('22GC.txt')"
   ]
  },
  {
   "cell_type": "markdown",
   "metadata": {},
   "source": [
    "### Benjamin Harrison (1889-1892)"
   ]
  },
  {
   "cell_type": "code",
   "execution_count": 24,
   "metadata": {
    "collapsed": false
   },
   "outputs": [
    {
     "data": {
      "text/plain": [
       "{'POS counts': {None: 39764,\n",
       "  'adjectives': 4069,\n",
       "  'adverbs': 1942,\n",
       "  'noun': 10366,\n",
       "  'pronouns': 1042,\n",
       "  'verbs': 1783},\n",
       " 'avg chars per word': 4.5993831449439915,\n",
       " 'number of capital letters': 4913,\n",
       " 'stop word frequency': 0.5115660323001576,\n",
       " 'top words by pos': {None: [('``', 25)],\n",
       "  'adjectives': [('such', 142),\n",
       "   ('great', 127),\n",
       "   ('last', 117),\n",
       "   ('new', 102),\n",
       "   ('general', 89),\n",
       "   ('other', 86),\n",
       "   ('american', 68),\n",
       "   ('large', 65),\n",
       "   ('same', 59),\n",
       "   ('foreign', 52)],\n",
       "  'adverbs': [('not', 332),\n",
       "   ('now', 118),\n",
       "   ('so', 97),\n",
       "   ('very', 84),\n",
       "   ('only', 74),\n",
       "   ('well', 33),\n",
       "   ('there', 29),\n",
       "   ('just', 27),\n",
       "   ('nearly', 27),\n",
       "   ('also', 24)],\n",
       "  'noun': [('government', 208),\n",
       "   ('year', 182),\n",
       "   ('congress', 147),\n",
       "   ('law', 128),\n",
       "   ('work', 93),\n",
       "   ('legislation', 92),\n",
       "   ('increase', 82),\n",
       "   ('time', 72),\n",
       "   ('value', 72),\n",
       "   ('department', 71)],\n",
       "  'pronouns': [('it', 360),\n",
       "   ('i', 262),\n",
       "   ('we', 112),\n",
       "   ('them', 86),\n",
       "   ('they', 80),\n",
       "   ('he', 34),\n",
       "   ('us', 33),\n",
       "   ('me', 26),\n",
       "   ('him', 17),\n",
       "   ('themselves', 11)],\n",
       "  'verbs': [('be', 619),\n",
       "   ('have', 63),\n",
       "   ('secure', 38),\n",
       "   ('give', 33),\n",
       "   ('make', 29),\n",
       "   ('promote', 20),\n",
       "   ('take', 18),\n",
       "   ('continue', 13),\n",
       "   ('doubt', 12),\n",
       "   ('maintain', 12)]},\n",
       " 'vocabulary size': [5985, 5653]}"
      ]
     },
     "execution_count": 24,
     "metadata": {},
     "output_type": "execute_result"
    }
   ],
   "source": [
    "pos_stats('23BH.txt')"
   ]
  },
  {
   "cell_type": "markdown",
   "metadata": {},
   "source": [
    "### William McKinley (1897-1900)"
   ]
  },
  {
   "cell_type": "code",
   "execution_count": 25,
   "metadata": {
    "collapsed": false
   },
   "outputs": [
    {
     "data": {
      "text/plain": [
       "{'POS counts': {None: 48509,\n",
       "  'adjectives': 5456,\n",
       "  'adverbs': 1913,\n",
       "  'noun': 13685,\n",
       "  'pronouns': 1042,\n",
       "  'verbs': 2109},\n",
       " 'avg chars per word': 4.686108019729882,\n",
       " 'number of capital letters': 7440,\n",
       " 'stop word frequency': 0.4842202162592913,\n",
       " 'top words by pos': {None: [('``', 21)],\n",
       "  'adjectives': [('such', 129),\n",
       "   ('other', 111),\n",
       "   ('american', 101),\n",
       "   ('general', 93),\n",
       "   ('great', 92),\n",
       "   ('international', 84),\n",
       "   ('last', 79),\n",
       "   ('new', 74),\n",
       "   ('foreign', 67),\n",
       "   ('military', 67)],\n",
       "  'adverbs': [('not', 264),\n",
       "   ('so', 97),\n",
       "   ('now', 82),\n",
       "   ('only', 66),\n",
       "   ('july', 47),\n",
       "   ('thus', 39),\n",
       "   ('already', 34),\n",
       "   ('also', 32),\n",
       "   ('then', 31),\n",
       "   ('well', 31)],\n",
       "  'noun': [('government', 398),\n",
       "   ('congress', 187),\n",
       "   ('year', 125),\n",
       "   ('war', 114),\n",
       "   ('act', 111),\n",
       "   ('country', 104),\n",
       "   ('commission', 101),\n",
       "   ('cuba', 99),\n",
       "   ('time', 79),\n",
       "   ('part', 72)],\n",
       "  'pronouns': [('it', 422),\n",
       "   ('i', 216),\n",
       "   ('we', 94),\n",
       "   ('they', 87),\n",
       "   ('them', 62),\n",
       "   ('us', 36),\n",
       "   ('he', 26),\n",
       "   ('you', 22),\n",
       "   ('him', 18),\n",
       "   ('itself', 14)],\n",
       "  'verbs': [('be', 671),\n",
       "   ('have', 59),\n",
       "   ('make', 39),\n",
       "   ('give', 27),\n",
       "   ('take', 26),\n",
       "   ('provide', 25),\n",
       "   ('meet', 22),\n",
       "   ('continue', 18),\n",
       "   ('secure', 17),\n",
       "   ('spain', 15)]},\n",
       " 'vocabulary size': [7409, 7022]}"
      ]
     },
     "execution_count": 25,
     "metadata": {},
     "output_type": "execute_result"
    }
   ],
   "source": [
    "pos_stats('25WM.txt')"
   ]
  },
  {
   "cell_type": "markdown",
   "metadata": {},
   "source": [
    "### Theodore Roosevelt (1901-1908)"
   ]
  },
  {
   "cell_type": "code",
   "execution_count": 26,
   "metadata": {
    "collapsed": false
   },
   "outputs": [
    {
     "data": {
      "text/plain": [
       "{'POS counts': {None: 109810,\n",
       "  'adjectives': 13197,\n",
       "  'adverbs': 7062,\n",
       "  'noun': 29831,\n",
       "  'pronouns': 4264,\n",
       "  'verbs': 6935},\n",
       " 'avg chars per word': 4.519374499640618,\n",
       " 'number of capital letters': 12236,\n",
       " 'stop word frequency': 0.5180830611183507,\n",
       " 'top words by pos': {None: [('``', 76)],\n",
       "  'adjectives': [('such', 603),\n",
       "   ('great', 381),\n",
       "   ('other', 331),\n",
       "   ('national', 251),\n",
       "   ('good', 213),\n",
       "   ('many', 171),\n",
       "   ('necessary', 160),\n",
       "   ('own', 160),\n",
       "   ('possible', 158),\n",
       "   ('public', 154)],\n",
       "  'adverbs': [('not', 912),\n",
       "   ('so', 390),\n",
       "   ('only', 291),\n",
       "   ('now', 265),\n",
       "   ('far', 152),\n",
       "   ('well', 139),\n",
       "   ('also', 128),\n",
       "   ('just', 120),\n",
       "   ('there', 116),\n",
       "   ('even', 115)],\n",
       "  'noun': [('government', 504),\n",
       "   ('law', 384),\n",
       "   ('congress', 308),\n",
       "   ('country', 300),\n",
       "   ('business', 261),\n",
       "   ('nation', 248),\n",
       "   ('work', 244),\n",
       "   ('man', 242),\n",
       "   ('power', 214),\n",
       "   ('service', 211)],\n",
       "  'pronouns': [('it', 1695),\n",
       "   ('we', 644),\n",
       "   ('they', 502),\n",
       "   ('i', 430),\n",
       "   ('them', 357),\n",
       "   ('he', 172),\n",
       "   ('us', 138),\n",
       "   ('themselves', 100),\n",
       "   ('itself', 76),\n",
       "   ('him', 63)],\n",
       "  'verbs': [('be', 2218),\n",
       "   ('have', 177),\n",
       "   ('do', 153),\n",
       "   ('make', 148),\n",
       "   ('secure', 97),\n",
       "   ('take', 92),\n",
       "   ('prevent', 72),\n",
       "   ('give', 67),\n",
       "   ('see', 63),\n",
       "   ('provide', 53)]},\n",
       " 'vocabulary size': [10198, 9761]}"
      ]
     },
     "execution_count": 26,
     "metadata": {},
     "output_type": "execute_result"
    }
   ],
   "source": [
    "pos_stats('26TR.txt')"
   ]
  },
  {
   "cell_type": "markdown",
   "metadata": {},
   "source": [
    "### William H. Taft (1909-1912)"
   ]
  },
  {
   "cell_type": "code",
   "execution_count": 27,
   "metadata": {
    "collapsed": false
   },
   "outputs": [
    {
     "data": {
      "text/plain": [
       "{'POS counts': {None: 48794,\n",
       "  'adjectives': 5936,\n",
       "  'adverbs': 2218,\n",
       "  'noun': 14325,\n",
       "  'pronouns': 1381,\n",
       "  'verbs': 2364},\n",
       " 'avg chars per word': 4.713081011949962,\n",
       " 'number of capital letters': 12397,\n",
       " 'stop word frequency': 0.49694256824267613,\n",
       " 'top words by pos': {None: [('``', 19)],\n",
       "  'adjectives': [('such', 208),\n",
       "   ('american', 197),\n",
       "   ('other', 159),\n",
       "   ('foreign', 157),\n",
       "   ('great', 143),\n",
       "   ('international', 95),\n",
       "   ('new', 95),\n",
       "   ('last', 93),\n",
       "   ('national', 90),\n",
       "   ('general', 73)],\n",
       "  'adverbs': [('not', 258),\n",
       "   ('now', 128),\n",
       "   ('so', 97),\n",
       "   ('only', 69),\n",
       "   ('thus', 65),\n",
       "   ('also', 64),\n",
       "   ('well', 48),\n",
       "   ('very', 45),\n",
       "   ('already', 41),\n",
       "   ('there', 37)],\n",
       "  'noun': [('government', 344),\n",
       "   ('congress', 189),\n",
       "   ('department', 177),\n",
       "   ('law', 138),\n",
       "   ('year', 138),\n",
       "   ('state', 114),\n",
       "   ('country', 111),\n",
       "   ('system', 104),\n",
       "   ('service', 99),\n",
       "   ('time', 90)],\n",
       "  'pronouns': [('it', 528),\n",
       "   ('i', 372),\n",
       "   ('they', 116),\n",
       "   ('we', 112),\n",
       "   ('them', 80),\n",
       "   ('me', 40),\n",
       "   ('he', 32),\n",
       "   ('itself', 28),\n",
       "   ('you', 21),\n",
       "   ('us', 18)],\n",
       "  'verbs': [('be', 686),\n",
       "   ('have', 74),\n",
       "   ('make', 62),\n",
       "   ('secure', 35),\n",
       "   ('take', 31),\n",
       "   ('give', 29),\n",
       "   ('meet', 29),\n",
       "   ('prevent', 25),\n",
       "   ('do', 21),\n",
       "   ('bring', 15)]},\n",
       " 'vocabulary size': [7153, 6743]}"
      ]
     },
     "execution_count": 27,
     "metadata": {},
     "output_type": "execute_result"
    }
   ],
   "source": [
    "pos_stats('27WT.txt')"
   ]
  },
  {
   "cell_type": "markdown",
   "metadata": {},
   "source": [
    "### Woodrow Wilson (1913-1920)"
   ]
  },
  {
   "cell_type": "code",
   "execution_count": 28,
   "metadata": {
    "collapsed": false
   },
   "outputs": [
    {
     "data": {
      "text/plain": [
       "{'POS counts': {None: 23885,\n",
       "  'adjectives': 2637,\n",
       "  'adverbs': 1610,\n",
       "  'noun': 5955,\n",
       "  'pronouns': 1759,\n",
       "  'verbs': 1786},\n",
       " 'avg chars per word': 4.43157363373097,\n",
       " 'number of capital letters': 2310,\n",
       " 'stop word frequency': 0.5458168389170807,\n",
       " 'top words by pos': {None: [('``', 10)],\n",
       "  'adjectives': [('great', 99),\n",
       "   ('own', 81),\n",
       "   ('other', 74),\n",
       "   ('such', 73),\n",
       "   ('necessary', 61),\n",
       "   ('last', 38),\n",
       "   ('many', 36),\n",
       "   ('possible', 35),\n",
       "   ('whole', 34),\n",
       "   ('national', 30)],\n",
       "  'adverbs': [('not', 277),\n",
       "   ('now', 76),\n",
       "   ('only', 65),\n",
       "   ('very', 57),\n",
       "   ('also', 49),\n",
       "   ('so', 48),\n",
       "   ('even', 27),\n",
       "   ('already', 25),\n",
       "   ('no', 23),\n",
       "   ('yet', 23)],\n",
       "  'noun': [('government', 104),\n",
       "   ('war', 95),\n",
       "   ('country', 94),\n",
       "   ('congress', 86),\n",
       "   ('world', 79),\n",
       "   ('peace', 70),\n",
       "   ('present', 61),\n",
       "   ('time', 56),\n",
       "   ('nation', 54),\n",
       "   ('matter', 47)],\n",
       "  'pronouns': [('it', 457),\n",
       "   ('we', 425),\n",
       "   ('i', 287),\n",
       "   ('they', 156),\n",
       "   ('them', 129),\n",
       "   ('us', 84),\n",
       "   ('you', 68),\n",
       "   ('me', 49),\n",
       "   ('itself', 30),\n",
       "   ('themselves', 30)],\n",
       "  'verbs': [('be', 474),\n",
       "   ('make', 66),\n",
       "   ('have', 59),\n",
       "   ('do', 41),\n",
       "   ('take', 27),\n",
       "   ('say', 22),\n",
       "   ('give', 16),\n",
       "   ('see', 16),\n",
       "   ('serve', 16),\n",
       "   ('find', 15)]},\n",
       " 'vocabulary size': [4445, 4102]}"
      ]
     },
     "execution_count": 28,
     "metadata": {},
     "output_type": "execute_result"
    }
   ],
   "source": [
    "pos_stats('28WW.txt')"
   ]
  },
  {
   "cell_type": "markdown",
   "metadata": {},
   "source": [
    "### Warren Harding (1921-1922)"
   ]
  },
  {
   "cell_type": "code",
   "execution_count": 29,
   "metadata": {
    "collapsed": false
   },
   "outputs": [
    {
     "data": {
      "text/plain": [
       "{'POS counts': {None: 7714,\n",
       "  'adjectives': 915,\n",
       "  'adverbs': 522,\n",
       "  'noun': 2291,\n",
       "  'pronouns': 431,\n",
       "  'verbs': 509},\n",
       " 'avg chars per word': 4.70887507066139,\n",
       " 'number of capital letters': 829,\n",
       " 'stop word frequency': 0.499152063312606,\n",
       " 'top words by pos': {None: [('``', 3)],\n",
       "  'adjectives': [('american', 31),\n",
       "   ('such', 27),\n",
       "   ('public', 22),\n",
       "   ('federal', 19),\n",
       "   ('national', 19),\n",
       "   ('possible', 18),\n",
       "   ('other', 16),\n",
       "   ('necessary', 15),\n",
       "   ('own', 15),\n",
       "   ('republic', 14)],\n",
       "  'adverbs': [('not', 94),\n",
       "   ('so', 44),\n",
       "   ('well', 27),\n",
       "   ('very', 16),\n",
       "   ('now', 15),\n",
       "   ('only', 14),\n",
       "   ('just', 11),\n",
       "   ('much', 11),\n",
       "   ('there', 11),\n",
       "   ('already', 8)],\n",
       "  'noun': [('government', 39),\n",
       "   ('world', 38),\n",
       "   ('congress', 29),\n",
       "   ('war', 28),\n",
       "   ('labor', 24),\n",
       "   ('law', 22),\n",
       "   ('transportation', 21),\n",
       "   ('policy', 18),\n",
       "   ('public', 17),\n",
       "   ('railway', 17)],\n",
       "  'pronouns': [('we', 141),\n",
       "   ('it', 135),\n",
       "   ('i', 59),\n",
       "   ('they', 21),\n",
       "   ('you', 18),\n",
       "   ('us', 16),\n",
       "   ('he', 10),\n",
       "   ('itself', 7),\n",
       "   ('them', 7),\n",
       "   ('themselves', 7)],\n",
       "  'verbs': [('be', 124),\n",
       "   ('have', 17),\n",
       "   ('make', 14),\n",
       "   ('meet', 11),\n",
       "   ('provide', 8),\n",
       "   ('give', 7),\n",
       "   ('believe', 6),\n",
       "   ('do', 6),\n",
       "   ('say', 6),\n",
       "   ('assume', 5)]},\n",
       " 'vocabulary size': [2607, 2326]}"
      ]
     },
     "execution_count": 29,
     "metadata": {},
     "output_type": "execute_result"
    }
   ],
   "source": [
    "pos_stats('29WH.txt')"
   ]
  },
  {
   "cell_type": "markdown",
   "metadata": {},
   "source": [
    "### Calvin Coolidge (1923-1928)"
   ]
  },
  {
   "cell_type": "code",
   "execution_count": 30,
   "metadata": {
    "collapsed": false
   },
   "outputs": [
    {
     "data": {
      "text/plain": [
       "{'POS counts': {None: 35706,\n",
       "  'adjectives': 4233,\n",
       "  'adverbs': 1940,\n",
       "  'noun': 10467,\n",
       "  'pronouns': 1542,\n",
       "  'verbs': 2297},\n",
       " 'avg chars per word': 4.707702435813035,\n",
       " 'number of capital letters': 6874,\n",
       " 'stop word frequency': 0.5040656192729925,\n",
       " 'top words by pos': {None: [('``', 1)],\n",
       "  'adjectives': [('such', 128),\n",
       "   ('national', 122),\n",
       "   ('other', 119),\n",
       "   ('great', 98),\n",
       "   ('federal', 87),\n",
       "   ('necessary', 80),\n",
       "   ('own', 79),\n",
       "   ('public', 77),\n",
       "   ('many', 69),\n",
       "   ('large', 64)],\n",
       "  'adverbs': [('not', 361),\n",
       "   ('so', 81),\n",
       "   ('only', 67),\n",
       "   ('now', 63),\n",
       "   ('already', 48),\n",
       "   ('very', 46),\n",
       "   ('well', 44),\n",
       "   ('much', 40),\n",
       "   ('also', 38),\n",
       "   ('still', 37)],\n",
       "  'noun': [('government', 267),\n",
       "   ('country', 160),\n",
       "   ('congress', 159),\n",
       "   ('law', 99),\n",
       "   ('present', 86),\n",
       "   ('legislation', 84),\n",
       "   ('time', 80),\n",
       "   ('service', 79),\n",
       "   ('war', 75),\n",
       "   ('year', 74)],\n",
       "  'pronouns': [('it', 629),\n",
       "   ('we', 374),\n",
       "   ('i', 171),\n",
       "   ('they', 167),\n",
       "   ('them', 62),\n",
       "   ('he', 38),\n",
       "   ('us', 33),\n",
       "   ('themselves', 22),\n",
       "   ('him', 14),\n",
       "   ('me', 12)],\n",
       "  'verbs': [('be', 758),\n",
       "   ('have', 99),\n",
       "   ('provide', 50),\n",
       "   ('make', 41),\n",
       "   ('meet', 34),\n",
       "   ('continue', 32),\n",
       "   ('secure', 28),\n",
       "   ('maintain', 19),\n",
       "   ('protect', 19),\n",
       "   ('give', 18)]},\n",
       " 'vocabulary size': [5736, 5362]}"
      ]
     },
     "execution_count": 30,
     "metadata": {},
     "output_type": "execute_result"
    }
   ],
   "source": [
    "pos_stats('30CC.txt')"
   ]
  },
  {
   "cell_type": "markdown",
   "metadata": {},
   "source": [
    "### Herbert Hoover (1929-1932)"
   ]
  },
  {
   "cell_type": "code",
   "execution_count": 31,
   "metadata": {
    "collapsed": false
   },
   "outputs": [
    {
     "data": {
      "text/plain": [
       "{'POS counts': {None: 17859,\n",
       "  'adjectives': 2330,\n",
       "  'adverbs': 803,\n",
       "  'noun': 5200,\n",
       "  'pronouns': 569,\n",
       "  'verbs': 904},\n",
       " 'avg chars per word': 4.887845403648185,\n",
       " 'number of capital letters': 3684,\n",
       " 'stop word frequency': 0.4817048943471194,\n",
       " 'top words by pos': {None: [('``', 13)],\n",
       "  'adjectives': [('such', 103),\n",
       "   ('federal', 91),\n",
       "   ('other', 77),\n",
       "   ('economic', 63),\n",
       "   ('public', 57),\n",
       "   ('national', 56),\n",
       "   ('many', 48),\n",
       "   ('large', 39),\n",
       "   ('further', 38),\n",
       "   ('necessary', 32)],\n",
       "  'adverbs': [('not', 92),\n",
       "   ('now', 46),\n",
       "   ('however', 29),\n",
       "   ('also', 25),\n",
       "   ('about', 23),\n",
       "   ('so', 20),\n",
       "   ('only', 19),\n",
       "   ('thus', 17),\n",
       "   ('again', 16),\n",
       "   ('even', 16)],\n",
       "  'noun': [('government', 116),\n",
       "   ('congress', 98),\n",
       "   ('year', 79),\n",
       "   ('system', 56),\n",
       "   ('construction', 55),\n",
       "   ('country', 54),\n",
       "   ('action', 51),\n",
       "   ('time', 40),\n",
       "   ('world', 40),\n",
       "   ('state', 37)],\n",
       "  'pronouns': [('it', 153),\n",
       "   ('i', 146),\n",
       "   ('we', 129),\n",
       "   ('they', 45),\n",
       "   ('them', 33),\n",
       "   ('us', 21),\n",
       "   ('itself', 12),\n",
       "   ('me', 10),\n",
       "   ('he', 9),\n",
       "   ('themselves', 6)],\n",
       "  'verbs': [('be', 266),\n",
       "   ('have', 27),\n",
       "   ('meet', 24),\n",
       "   ('make', 20),\n",
       "   ('give', 12),\n",
       "   ('recommend', 9),\n",
       "   ('secure', 9),\n",
       "   ('otherwise', 8),\n",
       "   ('assure', 7),\n",
       "   ('develop', 7)]},\n",
       " 'vocabulary size': [3993, 3682]}"
      ]
     },
     "execution_count": 31,
     "metadata": {},
     "output_type": "execute_result"
    }
   ],
   "source": [
    "pos_stats('31HH.txt')"
   ]
  },
  {
   "cell_type": "markdown",
   "metadata": {},
   "source": [
    "### Franklin D. Roosevelt (1934-1945)"
   ]
  },
  {
   "cell_type": "code",
   "execution_count": 32,
   "metadata": {
    "collapsed": false
   },
   "outputs": [
    {
     "data": {
      "text/plain": [
       "{'POS counts': {None: 33437,\n",
       "  'adjectives': 4164,\n",
       "  'adverbs': 1878,\n",
       "  'noun': 8970,\n",
       "  'pronouns': 1987,\n",
       "  'verbs': 2033},\n",
       " 'avg chars per word': 4.421138830698914,\n",
       " 'number of capital letters': 4228,\n",
       " 'stop word frequency': 0.5006855836983432,\n",
       " 'top words by pos': {None: [('``', 61)],\n",
       "  'adjectives': [('national', 132),\n",
       "   ('other', 125),\n",
       "   ('new', 104),\n",
       "   ('many', 95),\n",
       "   ('great', 90),\n",
       "   ('own', 84),\n",
       "   ('such', 75),\n",
       "   ('american', 65),\n",
       "   ('economic', 57),\n",
       "   ('first', 53)],\n",
       "  'adverbs': [('not', 368),\n",
       "   ('now', 81),\n",
       "   ('only', 76),\n",
       "   ('so', 58),\n",
       "   ('even', 47),\n",
       "   ('well', 41),\n",
       "   ('also', 37),\n",
       "   ('very', 32),\n",
       "   ('here', 28),\n",
       "   ('never', 28)],\n",
       "  'noun': [('war', 242),\n",
       "   ('world', 177),\n",
       "   ('government', 158),\n",
       "   ('nation', 142),\n",
       "   ('congress', 114),\n",
       "   ('peace', 111),\n",
       "   ('time', 89),\n",
       "   ('year', 85),\n",
       "   ('production', 74),\n",
       "   ('power', 72)],\n",
       "  'pronouns': [('we', 710),\n",
       "   ('it', 345),\n",
       "   ('i', 283),\n",
       "   ('they', 211),\n",
       "   ('us', 121),\n",
       "   ('them', 97),\n",
       "   ('you', 87),\n",
       "   ('itself', 33),\n",
       "   ('themselves', 31),\n",
       "   ('he', 25)],\n",
       "  'verbs': [('be', 356),\n",
       "   ('have', 59),\n",
       "   ('make', 50),\n",
       "   ('do', 35),\n",
       "   ('give', 31),\n",
       "   ('provide', 27),\n",
       "   ('say', 27),\n",
       "   ('work', 26),\n",
       "   ('continue', 24),\n",
       "   ('take', 24)]},\n",
       " 'vocabulary size': [5665, 5282]}"
      ]
     },
     "execution_count": 32,
     "metadata": {},
     "output_type": "execute_result"
    }
   ],
   "source": [
    "pos_stats('32FDR.txt')"
   ]
  },
  {
   "cell_type": "markdown",
   "metadata": {},
   "source": [
    "### Harry S. Truman (1946-1953)"
   ]
  },
  {
   "cell_type": "code",
   "execution_count": 33,
   "metadata": {
    "collapsed": false
   },
   "outputs": [
    {
     "data": {
      "text/plain": [
       "{'POS counts': {None: 46766,\n",
       "  'adjectives': 6045,\n",
       "  'adverbs': 2398,\n",
       "  'noun': 12840,\n",
       "  'pronouns': 2370,\n",
       "  'verbs': 3081},\n",
       " 'avg chars per word': 4.566929240798587,\n",
       " 'number of capital letters': 7561,\n",
       " 'stop word frequency': 0.47407306804291727,\n",
       " 'top words by pos': {None: [('``', 30)],\n",
       "  'adjectives': [('free', 170),\n",
       "   ('economic', 163),\n",
       "   ('fiscal', 142),\n",
       "   ('other', 142),\n",
       "   ('national', 139),\n",
       "   ('great', 138),\n",
       "   ('new', 124),\n",
       "   ('federal', 111),\n",
       "   ('many', 94),\n",
       "   ('full', 81)],\n",
       "  'adverbs': [('not', 339),\n",
       "   ('now', 167),\n",
       "   ('also', 91),\n",
       "   ('only', 77),\n",
       "   ('so', 68),\n",
       "   ('still', 64),\n",
       "   ('already', 43),\n",
       "   ('however', 43),\n",
       "   ('well', 40),\n",
       "   ('far', 39)],\n",
       "  'noun': [('world', 312),\n",
       "   ('war', 295),\n",
       "   ('year', 259),\n",
       "   ('government', 218),\n",
       "   ('congress', 187),\n",
       "   ('program', 165),\n",
       "   ('production', 114),\n",
       "   ('time', 110),\n",
       "   ('power', 107),\n",
       "   ('peace', 100)],\n",
       "  'pronouns': [('we', 1058),\n",
       "   ('it', 433),\n",
       "   ('i', 337),\n",
       "   ('they', 192),\n",
       "   ('us', 138),\n",
       "   ('them', 78),\n",
       "   ('me', 31),\n",
       "   ('he', 28),\n",
       "   ('you', 28),\n",
       "   ('themselves', 20)],\n",
       "  'verbs': [('be', 604),\n",
       "   ('have', 88),\n",
       "   ('continue', 78),\n",
       "   ('do', 62),\n",
       "   ('make', 61),\n",
       "   ('provide', 55),\n",
       "   ('meet', 48),\n",
       "   ('take', 47),\n",
       "   ('help', 34),\n",
       "   ('give', 33)]},\n",
       " 'vocabulary size': [6222, 5818]}"
      ]
     },
     "execution_count": 33,
     "metadata": {},
     "output_type": "execute_result"
    }
   ],
   "source": [
    "pos_stats('33HT.txt')"
   ]
  },
  {
   "cell_type": "markdown",
   "metadata": {},
   "source": [
    "### Dwight D. Eisenhower (1953-1961)"
   ]
  },
  {
   "cell_type": "code",
   "execution_count": 34,
   "metadata": {
    "collapsed": false
   },
   "outputs": [
    {
     "data": {
      "text/plain": [
       "{'POS counts': {None: 37255,\n",
       "  'adjectives': 5571,\n",
       "  'adverbs': 2078,\n",
       "  'noun': 11333,\n",
       "  'pronouns': 1487,\n",
       "  'verbs': 2395},\n",
       " 'avg chars per word': 4.7670483820034235,\n",
       " 'number of capital letters': 6246,\n",
       " 'stop word frequency': 0.4521747801951236,\n",
       " 'top words by pos': {None: [('``', 21)],\n",
       "  'adjectives': [('federal', 169),\n",
       "   ('new', 156),\n",
       "   ('economic', 141),\n",
       "   ('free', 127),\n",
       "   ('military', 123),\n",
       "   ('other', 111),\n",
       "   ('national', 106),\n",
       "   ('such', 83),\n",
       "   ('own', 75),\n",
       "   ('many', 71)],\n",
       "  'adverbs': [('not', 180),\n",
       "   ('now', 99),\n",
       "   ('also', 81),\n",
       "   ('so', 79),\n",
       "   ('only', 72),\n",
       "   ('still', 39),\n",
       "   ('forward', 35),\n",
       "   ('well', 32),\n",
       "   ('already', 31),\n",
       "   ('just', 31)],\n",
       "  'noun': [('world', 200),\n",
       "   ('government', 192),\n",
       "   ('congress', 154),\n",
       "   ('program', 146),\n",
       "   ('security', 133),\n",
       "   ('year', 131),\n",
       "   ('nation', 127),\n",
       "   ('peace', 126),\n",
       "   ('defense', 101),\n",
       "   ('freedom', 99)],\n",
       "  'pronouns': [('we', 579),\n",
       "   ('i', 344),\n",
       "   ('it', 241),\n",
       "   ('us', 105),\n",
       "   ('they', 89),\n",
       "   ('them', 54),\n",
       "   ('you', 19),\n",
       "   ('itself', 17),\n",
       "   ('themselves', 15),\n",
       "   ('me', 11)],\n",
       "  'verbs': [('be', 459),\n",
       "   ('make', 57),\n",
       "   ('provide', 44),\n",
       "   ('continue', 43),\n",
       "   ('help', 40),\n",
       "   ('have', 37),\n",
       "   ('meet', 35),\n",
       "   ('strengthen', 30),\n",
       "   ('do', 29),\n",
       "   ('maintain', 29)]},\n",
       " 'vocabulary size': [6319, 5942]}"
      ]
     },
     "execution_count": 34,
     "metadata": {},
     "output_type": "execute_result"
    }
   ],
   "source": [
    "pos_stats('34DE.txt')"
   ]
  },
  {
   "cell_type": "markdown",
   "metadata": {},
   "source": [
    "### John F. Kennedy (1961-1963)"
   ]
  },
  {
   "cell_type": "code",
   "execution_count": 35,
   "metadata": {
    "collapsed": false
   },
   "outputs": [
    {
     "data": {
      "text/plain": [
       "{'POS counts': {None: 12343,\n",
       "  'adjectives': 1577,\n",
       "  'adverbs': 704,\n",
       "  'noun': 3510,\n",
       "  'pronouns': 538,\n",
       "  'verbs': 747},\n",
       " 'avg chars per word': 4.410111202635914,\n",
       " 'number of capital letters': 1918,\n",
       " 'stop word frequency': 0.4651462108731466,\n",
       " 'top words by pos': {None: [('``', 18)],\n",
       "  'adjectives': [('new', 79),\n",
       "   ('free', 47),\n",
       "   ('other', 45),\n",
       "   ('own', 43),\n",
       "   ('national', 35),\n",
       "   ('economic', 34),\n",
       "   ('common', 21),\n",
       "   ('first', 20),\n",
       "   ('federal', 19),\n",
       "   ('last', 19)],\n",
       "  'adverbs': [('not', 138),\n",
       "   ('now', 38),\n",
       "   ('only', 31),\n",
       "   ('too', 17),\n",
       "   ('abroad', 15),\n",
       "   ('never', 14),\n",
       "   ('also', 13),\n",
       "   ('instead', 13),\n",
       "   ('long', 13),\n",
       "   ('nearly', 13)],\n",
       "  'noun': [('world', 71),\n",
       "   ('year', 43),\n",
       "   ('nation', 42),\n",
       "   ('congress', 40),\n",
       "   ('defense', 34),\n",
       "   ('peace', 31),\n",
       "   ('program', 31),\n",
       "   ('tax', 31),\n",
       "   ('freedom', 27),\n",
       "   ('growth', 27)],\n",
       "  'pronouns': [('we', 208),\n",
       "   ('i', 107),\n",
       "   ('it', 103),\n",
       "   ('us', 42),\n",
       "   ('they', 33),\n",
       "   ('them', 17),\n",
       "   ('you', 10),\n",
       "   ('themselves', 6),\n",
       "   ('he', 5),\n",
       "   ('itself', 2)],\n",
       "  'verbs': [('be', 120),\n",
       "   ('make', 20),\n",
       "   ('help', 19),\n",
       "   ('increase', 14),\n",
       "   ('provide', 12),\n",
       "   ('afford', 9),\n",
       "   ('continue', 9),\n",
       "   ('expand', 9),\n",
       "   ('have', 9),\n",
       "   ('meet', 9)]},\n",
       " 'vocabulary size': [3545, 3239]}"
      ]
     },
     "execution_count": 35,
     "metadata": {},
     "output_type": "execute_result"
    }
   ],
   "source": [
    "pos_stats('35JFK.txt')"
   ]
  },
  {
   "cell_type": "markdown",
   "metadata": {},
   "source": [
    "### Lyndon B. Johnson (1964-1969)"
   ]
  },
  {
   "cell_type": "code",
   "execution_count": 36,
   "metadata": {
    "collapsed": false
   },
   "outputs": [
    {
     "data": {
      "text/plain": [
       "{'POS counts': {None: 20764,\n",
       "  'adjectives': 2055,\n",
       "  'adverbs': 1159,\n",
       "  'noun': 5371,\n",
       "  'pronouns': 1677,\n",
       "  'verbs': 1659},\n",
       " 'avg chars per word': 4.2541590214067275,\n",
       " 'number of capital letters': 3526,\n",
       " 'stop word frequency': 0.498348623853211,\n",
       " 'top words by pos': {None: [('``', 28)],\n",
       "  'adjectives': [('new', 94),\n",
       "   ('last', 61),\n",
       "   ('american', 55),\n",
       "   ('great', 55),\n",
       "   ('many', 53),\n",
       "   ('other', 51),\n",
       "   ('first', 37),\n",
       "   ('federal', 35),\n",
       "   ('national', 30),\n",
       "   ('own', 27)],\n",
       "  'adverbs': [('not', 156),\n",
       "   ('now', 74),\n",
       "   ('so', 56),\n",
       "   ('only', 36),\n",
       "   ('very', 32),\n",
       "   ('also', 31),\n",
       "   ('well', 31),\n",
       "   ('already', 29),\n",
       "   ('here', 27),\n",
       "   ('just', 25)],\n",
       "  'noun': [('congress', 114),\n",
       "   ('year', 111),\n",
       "   ('nation', 89),\n",
       "   ('world', 73),\n",
       "   ('america', 63),\n",
       "   ('vietnam', 62),\n",
       "   ('war', 53),\n",
       "   ('peace', 52),\n",
       "   ('time', 49),\n",
       "   ('government', 43)],\n",
       "  'pronouns': [('we', 659),\n",
       "   ('i', 391),\n",
       "   ('it', 216),\n",
       "   ('you', 107),\n",
       "   ('they', 93),\n",
       "   ('us', 81),\n",
       "   ('them', 59),\n",
       "   ('he', 23),\n",
       "   ('me', 19),\n",
       "   ('themselves', 11)],\n",
       "  'verbs': [('be', 191),\n",
       "   ('help', 50),\n",
       "   ('make', 41),\n",
       "   ('do', 35),\n",
       "   ('have', 32),\n",
       "   ('continue', 31),\n",
       "   ('provide', 22),\n",
       "   ('give', 21),\n",
       "   ('meet', 20),\n",
       "   ('take', 20)]},\n",
       " 'vocabulary size': [4062, 3723]}"
      ]
     },
     "execution_count": 36,
     "metadata": {},
     "output_type": "execute_result"
    }
   ],
   "source": [
    "pos_stats('36LBJ.txt')"
   ]
  },
  {
   "cell_type": "markdown",
   "metadata": {},
   "source": [
    "### Richard Nixon (1970-1974)"
   ]
  },
  {
   "cell_type": "code",
   "execution_count": 37,
   "metadata": {
    "collapsed": false
   },
   "outputs": [
    {
     "data": {
      "text/plain": [
       "{'POS counts': {None: 13917,\n",
       "  'adjectives': 1464,\n",
       "  'adverbs': 837,\n",
       "  'noun': 3722,\n",
       "  'pronouns': 1019,\n",
       "  'verbs': 997},\n",
       " 'avg chars per word': 4.245948652585579,\n",
       " 'number of capital letters': 1969,\n",
       " 'stop word frequency': 0.5143390386016023,\n",
       " 'top words by pos': {None: [('``', 13)],\n",
       "  'adjectives': [('new', 115),\n",
       "   ('great', 65),\n",
       "   ('american', 55),\n",
       "   ('federal', 50),\n",
       "   ('first', 32),\n",
       "   ('other', 30),\n",
       "   ('own', 27),\n",
       "   ('full', 26),\n",
       "   ('many', 21),\n",
       "   ('last', 20)],\n",
       "  'adverbs': [('not', 131),\n",
       "   ('now', 53),\n",
       "   ('so', 41),\n",
       "   ('only', 35),\n",
       "   ('also', 32),\n",
       "   ('well', 21),\n",
       "   ('ago', 20),\n",
       "   ('here', 19),\n",
       "   ('just', 19),\n",
       "   ('together', 18)],\n",
       "  'noun': [('america', 112),\n",
       "   ('congress', 101),\n",
       "   ('government', 90),\n",
       "   ('world', 79),\n",
       "   ('nation', 70),\n",
       "   ('year', 67),\n",
       "   ('time', 59),\n",
       "   ('peace', 57),\n",
       "   ('today', 41),\n",
       "   ('war', 35)],\n",
       "  'pronouns': [('we', 388),\n",
       "   ('i', 211),\n",
       "   ('it', 150),\n",
       "   ('us', 86),\n",
       "   ('they', 70),\n",
       "   ('you', 30),\n",
       "   ('them', 29),\n",
       "   ('he', 14),\n",
       "   ('themselves', 14),\n",
       "   ('me', 12)],\n",
       "  'verbs': [('be', 149),\n",
       "   ('have', 40),\n",
       "   ('make', 39),\n",
       "   ('do', 28),\n",
       "   ('let', 27),\n",
       "   ('help', 25),\n",
       "   ('meet', 23),\n",
       "   ('achieve', 15),\n",
       "   ('provide', 15),\n",
       "   ('give', 14)]},\n",
       " 'vocabulary size': [2882, 2575]}"
      ]
     },
     "execution_count": 37,
     "metadata": {},
     "output_type": "execute_result"
    }
   ],
   "source": [
    "pos_stats('37RN.txt')"
   ]
  },
  {
   "cell_type": "markdown",
   "metadata": {},
   "source": [
    "### Gerald R. Ford (1975-1977)"
   ]
  },
  {
   "cell_type": "code",
   "execution_count": 38,
   "metadata": {
    "collapsed": false
   },
   "outputs": [
    {
     "data": {
      "text/plain": [
       "{'POS counts': {None: 9515,\n",
       "  'adjectives': 1311,\n",
       "  'adverbs': 528,\n",
       "  'noun': 2707,\n",
       "  'pronouns': 666,\n",
       "  'verbs': 639},\n",
       " 'avg chars per word': 4.45172817047817,\n",
       " 'number of capital letters': 1551,\n",
       " 'stop word frequency': 0.4616034303534304,\n",
       " 'top words by pos': {None: [('``', 7)],\n",
       "  'adjectives': [('federal', 64),\n",
       "   ('new', 60),\n",
       "   ('many', 35),\n",
       "   ('economic', 24),\n",
       "   ('foreign', 23),\n",
       "   ('good', 20),\n",
       "   ('national', 18),\n",
       "   ('american', 17),\n",
       "   ('domestic', 17),\n",
       "   ('great', 17)],\n",
       "  'adverbs': [('not', 72),\n",
       "   ('now', 33),\n",
       "   ('only', 21),\n",
       "   ('also', 18),\n",
       "   ('still', 18),\n",
       "   ('so', 16),\n",
       "   ('too', 15),\n",
       "   ('very', 12),\n",
       "   ('again', 11),\n",
       "   ('here', 11)],\n",
       "  'noun': [('world', 57),\n",
       "   ('congress', 54),\n",
       "   ('energy', 54),\n",
       "   ('year', 52),\n",
       "   ('government', 44),\n",
       "   ('president', 42),\n",
       "   ('america', 38),\n",
       "   ('state', 32),\n",
       "   ('tax', 32),\n",
       "   ('union', 30)],\n",
       "  'pronouns': [('we', 236),\n",
       "   ('i', 213),\n",
       "   ('it', 98),\n",
       "   ('us', 29),\n",
       "   ('they', 28),\n",
       "   ('you', 25),\n",
       "   ('them', 15),\n",
       "   ('me', 14),\n",
       "   ('he', 4),\n",
       "   ('him', 2)],\n",
       "  'verbs': [('be', 83),\n",
       "   ('help', 17),\n",
       "   ('make', 14),\n",
       "   ('have', 13),\n",
       "   ('achieve', 11),\n",
       "   ('work', 11),\n",
       "   ('do', 9),\n",
       "   ('go', 9),\n",
       "   ('reduce', 9),\n",
       "   ('take', 9)]},\n",
       " 'vocabulary size': [2807, 2515]}"
      ]
     },
     "execution_count": 38,
     "metadata": {},
     "output_type": "execute_result"
    }
   ],
   "source": [
    "pos_stats('38GRF.txt')"
   ]
  },
  {
   "cell_type": "markdown",
   "metadata": {},
   "source": [
    "### Jimmy Carter (1978-1981)"
   ]
  },
  {
   "cell_type": "code",
   "execution_count": 39,
   "metadata": {
    "collapsed": false
   },
   "outputs": [
    {
     "data": {
      "text/plain": [
       "{'POS counts': {None: 30622,\n",
       "  'adjectives': 4566,\n",
       "  'adverbs': 1375,\n",
       "  'noun': 9883,\n",
       "  'pronouns': 1263,\n",
       "  'verbs': 1892},\n",
       " 'avg chars per word': 4.80682459108855,\n",
       " 'number of capital letters': 8219,\n",
       " 'stop word frequency': 0.43141165095479816,\n",
       " 'top words by pos': {None: [('``', 28)],\n",
       "  'adjectives': [('new', 156),\n",
       "   ('federal', 121),\n",
       "   ('economic', 110),\n",
       "   ('national', 102),\n",
       "   ('other', 88),\n",
       "   ('major', 79),\n",
       "   ('international', 74),\n",
       "   ('american', 68),\n",
       "   ('first', 63),\n",
       "   ('nuclear', 63)],\n",
       "  'adverbs': [('not', 155),\n",
       "   ('also', 101),\n",
       "   ('now', 65),\n",
       "   ('well', 42),\n",
       "   ('so', 34),\n",
       "   ('together', 34),\n",
       "   ('only', 33),\n",
       "   ('again', 21),\n",
       "   ('even', 19),\n",
       "   ('ever', 19)],\n",
       "  'noun': [('world', 162),\n",
       "   ('congress', 148),\n",
       "   ('administration', 144),\n",
       "   ('government', 143),\n",
       "   ('year', 129),\n",
       "   ('nation', 117),\n",
       "   ('policy', 114),\n",
       "   ('energy', 110),\n",
       "   ('program', 104),\n",
       "   ('security', 100)],\n",
       "  'pronouns': [('we', 589),\n",
       "   ('i', 285),\n",
       "   ('it', 169),\n",
       "   ('us', 74),\n",
       "   ('they', 57),\n",
       "   ('you', 33),\n",
       "   ('them', 26),\n",
       "   ('me', 11),\n",
       "   ('itself', 6),\n",
       "   ('themselves', 6)],\n",
       "  'verbs': [('be', 230),\n",
       "   ('continue', 67),\n",
       "   ('provide', 61),\n",
       "   ('help', 59),\n",
       "   ('have', 43),\n",
       "   ('make', 40),\n",
       "   ('meet', 33),\n",
       "   ('work', 30),\n",
       "   ('increase', 28),\n",
       "   ('take', 28)]},\n",
       " 'vocabulary size': [5732, 5385]}"
      ]
     },
     "execution_count": 39,
     "metadata": {},
     "output_type": "execute_result"
    }
   ],
   "source": [
    "pos_stats('39JC.txt')"
   ]
  },
  {
   "cell_type": "markdown",
   "metadata": {},
   "source": [
    "### Ronald Reagan (1982-1988)"
   ]
  },
  {
   "cell_type": "code",
   "execution_count": 40,
   "metadata": {
    "collapsed": false
   },
   "outputs": [
    {
     "data": {
      "text/plain": [
       "{'POS counts': {None: 22849,\n",
       "  'adjectives': 2505,\n",
       "  'adverbs': 1503,\n",
       "  'noun': 6578,\n",
       "  'pronouns': 1698,\n",
       "  'verbs': 1678},\n",
       " 'avg chars per word': 4.30137916055818,\n",
       " 'number of capital letters': 3623,\n",
       " 'stop word frequency': 0.4622631264592496,\n",
       " 'top words by pos': {None: [('``', 43)],\n",
       "  'adjectives': [('new', 77),\n",
       "   ('federal', 71),\n",
       "   ('economic', 65),\n",
       "   ('free', 63),\n",
       "   ('american', 56),\n",
       "   ('last', 44),\n",
       "   ('great', 40),\n",
       "   ('national', 38),\n",
       "   ('next', 38),\n",
       "   ('many', 35)],\n",
       "  'adverbs': [('not', 196),\n",
       "   ('now', 85),\n",
       "   ('so', 73),\n",
       "   ('well', 58),\n",
       "   (\"n't\", 53),\n",
       "   ('just', 52),\n",
       "   ('only', 47),\n",
       "   ('again', 45),\n",
       "   ('also', 45),\n",
       "   ('together', 42)],\n",
       "  'noun': [('america', 160),\n",
       "   ('government', 117),\n",
       "   ('freedom', 91),\n",
       "   ('world', 88),\n",
       "   ('year', 80),\n",
       "   ('congress', 71),\n",
       "   ('peace', 69),\n",
       "   ('time', 66),\n",
       "   ('budget', 64),\n",
       "   ('tax', 63)],\n",
       "  'pronouns': [('we', 665),\n",
       "   ('i', 257),\n",
       "   ('it', 234),\n",
       "   ('us', 154),\n",
       "   ('you', 132),\n",
       "   ('they', 100),\n",
       "   ('them', 62),\n",
       "   ('me', 34),\n",
       "   ('he', 29),\n",
       "   ('she', 10)],\n",
       "  'verbs': [('be', 196),\n",
       "   ('let', 52),\n",
       "   ('make', 50),\n",
       "   ('do', 46),\n",
       "   ('help', 37),\n",
       "   ('have', 34),\n",
       "   ('work', 27),\n",
       "   ('take', 26),\n",
       "   ('continue', 24),\n",
       "   ('say', 22)]},\n",
       " 'vocabulary size': [4789, 4434]}"
      ]
     },
     "execution_count": 40,
     "metadata": {},
     "output_type": "execute_result"
    }
   ],
   "source": [
    "pos_stats('40RR.txt')"
   ]
  },
  {
   "cell_type": "markdown",
   "metadata": {},
   "source": [
    "### George H.W. Bush (1989-1992)"
   ]
  },
  {
   "cell_type": "code",
   "execution_count": 41,
   "metadata": {
    "collapsed": false
   },
   "outputs": [
    {
     "data": {
      "text/plain": [
       "{'POS counts': {None: 12339,\n",
       "  'adjectives': 1239,\n",
       "  'adverbs': 747,\n",
       "  'noun': 3385,\n",
       "  'pronouns': 1075,\n",
       "  'verbs': 976},\n",
       " 'avg chars per word': 4.103764039259334,\n",
       " 'number of capital letters': 2185,\n",
       " 'stop word frequency': 0.4760700192249317,\n",
       " 'top words by pos': {None: [('``', 33)],\n",
       "  'adjectives': [('new', 66),\n",
       "   ('american', 33),\n",
       "   ('future', 28),\n",
       "   ('federal', 24),\n",
       "   ('economic', 23),\n",
       "   ('free', 22),\n",
       "   ('great', 20),\n",
       "   ('first', 19),\n",
       "   ('own', 18),\n",
       "   ('good', 16)],\n",
       "  'adverbs': [('not', 103),\n",
       "   ('now', 49),\n",
       "   ('so', 37),\n",
       "   (\"n't\", 26),\n",
       "   ('here', 24),\n",
       "   ('just', 22),\n",
       "   ('there', 20),\n",
       "   ('never', 17),\n",
       "   ('only', 17),\n",
       "   ('too', 16)],\n",
       "  'noun': [('america', 83),\n",
       "   ('world', 81),\n",
       "   ('time', 48),\n",
       "   ('nation', 40),\n",
       "   ('budget', 38),\n",
       "   ('plan', 35),\n",
       "   ('year', 35),\n",
       "   ('freedom', 32),\n",
       "   ('congress', 30),\n",
       "   ('government', 29)],\n",
       "  'pronouns': [('we', 347),\n",
       "   ('i', 245),\n",
       "   ('it', 149),\n",
       "   ('you', 98),\n",
       "   ('us', 72),\n",
       "   ('they', 63),\n",
       "   ('them', 33),\n",
       "   ('he', 28),\n",
       "   ('me', 26),\n",
       "   ('she', 7)],\n",
       "  'verbs': [('be', 107),\n",
       "   ('do', 40),\n",
       "   ('let', 39),\n",
       "   ('make', 33),\n",
       "   ('have', 26),\n",
       "   ('help', 25),\n",
       "   ('get', 19),\n",
       "   ('work', 16),\n",
       "   ('take', 14),\n",
       "   ('give', 13)]},\n",
       " 'vocabulary size': [3227, 2913]}"
      ]
     },
     "execution_count": 41,
     "metadata": {},
     "output_type": "execute_result"
    }
   ],
   "source": [
    "pos_stats('41GHB.txt')"
   ]
  },
  {
   "cell_type": "markdown",
   "metadata": {},
   "source": [
    "### William J. Clinton (1993-2000)"
   ]
  },
  {
   "cell_type": "code",
   "execution_count": 42,
   "metadata": {
    "collapsed": false
   },
   "outputs": [
    {
     "data": {
      "text/plain": [
       "{'POS counts': {None: 41171,\n",
       "  'adjectives': 4056,\n",
       "  'adverbs': 2572,\n",
       "  'noun': 10981,\n",
       "  'pronouns': 3908,\n",
       "  'verbs': 3737},\n",
       " 'avg chars per word': 4.19430609266142,\n",
       " 'number of capital letters': 6725,\n",
       " 'stop word frequency': 0.48009991423025417,\n",
       " 'top words by pos': {None: [('``', 27)],\n",
       "  'adjectives': [('new', 264),\n",
       "   ('last', 123),\n",
       "   ('first', 100),\n",
       "   ('american', 99),\n",
       "   ('other', 87),\n",
       "   ('national', 75),\n",
       "   ('good', 67),\n",
       "   ('many', 67),\n",
       "   ('next', 59),\n",
       "   ('social', 56)],\n",
       "  'adverbs': [('not', 257),\n",
       "   ('now', 201),\n",
       "   ('so', 147),\n",
       "   (\"n't\", 133),\n",
       "   ('here', 104),\n",
       "   ('just', 92),\n",
       "   ('also', 88),\n",
       "   ('together', 67),\n",
       "   ('still', 64),\n",
       "   ('too', 57)],\n",
       "  'noun': [('america', 235),\n",
       "   ('year', 198),\n",
       "   ('world', 145),\n",
       "   ('care', 131),\n",
       "   ('congress', 129),\n",
       "   ('health', 123),\n",
       "   ('government', 116),\n",
       "   ('country', 112),\n",
       "   ('time', 111),\n",
       "   ('work', 97)],\n",
       "  'pronouns': [('we', 1388),\n",
       "   ('i', 743),\n",
       "   ('it', 506),\n",
       "   ('you', 391),\n",
       "   ('they', 292),\n",
       "   ('us', 198),\n",
       "   ('them', 168),\n",
       "   ('me', 73),\n",
       "   ('he', 67),\n",
       "   ('she', 38)],\n",
       "  'verbs': [('be', 319),\n",
       "   ('do', 177),\n",
       "   ('make', 147),\n",
       "   ('work', 106),\n",
       "   ('help', 100),\n",
       "   ('have', 95),\n",
       "   ('let', 77),\n",
       "   ('give', 75),\n",
       "   ('say', 63),\n",
       "   ('go', 56)]},\n",
       " 'vocabulary size': [5700, 5329]}"
      ]
     },
     "execution_count": 42,
     "metadata": {},
     "output_type": "execute_result"
    }
   ],
   "source": [
    "pos_stats('42WC.txt')"
   ]
  },
  {
   "cell_type": "markdown",
   "metadata": {},
   "source": [
    "### George W. Bush (2001-2008)"
   ]
  },
  {
   "cell_type": "code",
   "execution_count": 43,
   "metadata": {
    "collapsed": false
   },
   "outputs": [
    {
     "data": {
      "text/plain": [
       "{'POS counts': {None: 30910,\n",
       "  'adjectives': 3030,\n",
       "  'adverbs': 1562,\n",
       "  'noun': 8788,\n",
       "  'pronouns': 2166,\n",
       "  'verbs': 2400},\n",
       " 'avg chars per word': 4.319924704341777,\n",
       " 'number of capital letters': 5701,\n",
       " 'stop word frequency': 0.45682776118181445,\n",
       " 'top words by pos': {None: [('``', 32)],\n",
       "  'adjectives': [('new', 123),\n",
       "   ('american', 82),\n",
       "   ('many', 79),\n",
       "   ('great', 70),\n",
       "   ('own', 70),\n",
       "   ('good', 69),\n",
       "   ('other', 57),\n",
       "   ('last', 49),\n",
       "   ('social', 47),\n",
       "   ('federal', 46)],\n",
       "  'adverbs': [('not', 262),\n",
       "   ('so', 142),\n",
       "   ('now', 80),\n",
       "   ('also', 74),\n",
       "   ('yet', 55),\n",
       "   ('together', 44),\n",
       "   ('never', 41),\n",
       "   ('here', 38),\n",
       "   ('only', 37),\n",
       "   ('just', 34)],\n",
       "  'noun': [('america', 237),\n",
       "   ('world', 139),\n",
       "   ('country', 123),\n",
       "   ('security', 113),\n",
       "   ('nation', 103),\n",
       "   ('congress', 96),\n",
       "   ('freedom', 90),\n",
       "   ('government', 90),\n",
       "   ('iraq', 88),\n",
       "   ('health', 83)],\n",
       "  'pronouns': [('we', 872),\n",
       "   ('i', 305),\n",
       "   ('it', 217),\n",
       "   ('you', 215),\n",
       "   ('they', 177),\n",
       "   ('us', 140),\n",
       "   ('them', 120),\n",
       "   ('he', 52),\n",
       "   ('me', 33),\n",
       "   ('she', 11)],\n",
       "  'verbs': [('be', 196),\n",
       "   ('help', 83),\n",
       "   ('make', 74),\n",
       "   ('do', 44),\n",
       "   ('have', 41),\n",
       "   ('take', 39),\n",
       "   ('continue', 36),\n",
       "   ('keep', 36),\n",
       "   ('work', 35),\n",
       "   ('protect', 34)]},\n",
       " 'vocabulary size': [5409, 5058]}"
      ]
     },
     "execution_count": 43,
     "metadata": {},
     "output_type": "execute_result"
    }
   ],
   "source": [
    "pos_stats('43GWB.txt')"
   ]
  },
  {
   "cell_type": "markdown",
   "metadata": {},
   "source": [
    "### Barack Obama (2009-2015)"
   ]
  },
  {
   "cell_type": "code",
   "execution_count": 44,
   "metadata": {
    "collapsed": false
   },
   "outputs": [
    {
     "data": {
      "text/plain": [
       "{'POS counts': {None: 34110,\n",
       "  'adjectives': 3033,\n",
       "  'adverbs': 2208,\n",
       "  'noun': 8658,\n",
       "  'pronouns': 2808,\n",
       "  'verbs': 2631},\n",
       " 'avg chars per word': 4.172150004675956,\n",
       " 'number of capital letters': 5213,\n",
       " 'stop word frequency': 0.47141120359113436,\n",
       " 'top words by pos': {None: [('``', 51)],\n",
       "  'adjectives': [('new', 194),\n",
       "   ('american', 113),\n",
       "   ('last', 81),\n",
       "   ('first', 61),\n",
       "   ('next', 57),\n",
       "   ('many', 56),\n",
       "   ('other', 51),\n",
       "   ('own', 44),\n",
       "   ('small', 42),\n",
       "   ('same', 40)],\n",
       "  'adverbs': [('not', 230),\n",
       "   (\"n't\", 216),\n",
       "   ('so', 151),\n",
       "   ('now', 127),\n",
       "   ('just', 87),\n",
       "   ('here', 79),\n",
       "   ('also', 77),\n",
       "   ('back', 57),\n",
       "   ('even', 55),\n",
       "   ('still', 53)],\n",
       "  'noun': [('america', 188),\n",
       "   ('year', 119),\n",
       "   ('time', 108),\n",
       "   ('country', 105),\n",
       "   ('economy', 98),\n",
       "   ('world', 98),\n",
       "   ('congress', 90),\n",
       "   ('energy', 89),\n",
       "   ('tax', 79),\n",
       "   ('nation', 68)],\n",
       "  'pronouns': [('we', 1029),\n",
       "   ('i', 494),\n",
       "   ('it', 420),\n",
       "   ('they', 227),\n",
       "   ('you', 211),\n",
       "   ('us', 151),\n",
       "   ('them', 90),\n",
       "   ('me', 52),\n",
       "   ('he', 49),\n",
       "   ('she', 48)],\n",
       "  'verbs': [('be', 173),\n",
       "   ('do', 111),\n",
       "   ('make', 97),\n",
       "   ('help', 73),\n",
       "   ('let', 69),\n",
       "   ('get', 67),\n",
       "   ('have', 61),\n",
       "   ('work', 56),\n",
       "   ('keep', 49),\n",
       "   ('give', 44)]},\n",
       " 'vocabulary size': [5284, 4927]}"
      ]
     },
     "execution_count": 44,
     "metadata": {},
     "output_type": "execute_result"
    }
   ],
   "source": [
    "pos_stats('44OB.txt')"
   ]
  },
  {
   "cell_type": "code",
   "execution_count": null,
   "metadata": {
    "collapsed": true
   },
   "outputs": [],
   "source": []
  },
  {
   "cell_type": "code",
   "execution_count": null,
   "metadata": {
    "collapsed": true
   },
   "outputs": [],
   "source": []
  }
 ],
 "metadata": {
  "kernelspec": {
   "display_name": "Python 2",
   "language": "python",
   "name": "python2"
  },
  "language_info": {
   "codemirror_mode": {
    "name": "ipython",
    "version": 2
   },
   "file_extension": ".py",
   "mimetype": "text/x-python",
   "name": "python",
   "nbconvert_exporter": "python",
   "pygments_lexer": "ipython2",
   "version": "2.7.10"
  }
 },
 "nbformat": 4,
 "nbformat_minor": 0
}
